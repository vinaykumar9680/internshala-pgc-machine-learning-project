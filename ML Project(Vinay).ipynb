{
 "cells": [
  {
   "cell_type": "markdown",
   "id": "ea107a18-d3ef-41ae-91e4-8b1da099442e",
   "metadata": {},
   "source": [
    "# <B>  Additional Question </B>"
   ]
  },
  {
   "cell_type": "markdown",
   "id": "5f7c83c0-35f1-4d46-a43d-ee954196e2ad",
   "metadata": {},
   "source": [
    " ## <b> Q1 Your views about the problem statement? </b>"
   ]
  },
  {
   "cell_type": "markdown",
   "id": "b588f27d-5f9c-4e4a-bbe2-e47246c7ba0b",
   "metadata": {},
   "source": [
    "- **Company Background:** TechWorks Consulting is a company specializing in IT talent recruitment, and highlights its unique approach to matching skilled IT professionals with job opportunities.The company has very good image in market to place employees and sequre deserving pakages.\n",
    "- **Data Description:** The Dataset conatins information about colleges, cities, roles, previous experience, and salary. This information will be used to train and test the predictive model.We have to 2 additional dataset for colleges and city which help to divide colleges into tier 1 tier 2 tier 3 and city into metro or non metro city\n",
    "- **Regression Task:** The primary objective is to perform a regression task, where the aim is to predict a continuous variable, specifically the salary of newly hired employees.We can done it by all possible models and after than we have to choose the best.\n",
    "- **Role of Statistics:** Once the model is trained, statisticians would use statistical methods to evaluate its\r\n",
    "performance. One common method used in evaluating regression models is Mean Squared\r\n",
    "Error (MSE), which measures the average difference between the predicted salary and the\r\n",
    "actual salary. A lower MSE indicates that the model is making more accurate predictions. Other\r\n",
    "metrics like R-Squared and AIC can also be used to evaluate the model.\r\n",
    "Additionally, statisticians would also use statistical hypothesis testing to evaluate the\r\n",
    "significance of the model's coefficients and to make sure that the results are reliable and not just\r\n",
    "by chance.\n",
    "- **Data Preprocessing:** Data Preprocessing is most important task as it involves tasks like handling missing values, outliers, categorical variables, normalization, and feature selection."
   ]
  },
  {
   "cell_type": "markdown",
   "id": "55e00507-fa0b-4c3f-b236-a62556e15059",
   "metadata": {},
   "source": [
    "## <b> Q2 What will be your approach to solving this task? </b>"
   ]
  },
  {
   "cell_type": "markdown",
   "id": "ca0c4d97-c35b-4b00-acd5-41fa9f6b3a81",
   "metadata": {},
   "source": [
    "##### Task : To create the Regression model for prediction of salary of new joining employees\n",
    "\n",
    "- **Data anlysing and loading:**\n",
    "  - In this step, we load the data and analyze it to understand what information is given in our dataset and how it can help us in building the model further.\n",
    "- **Data Preprocessing:**\n",
    "  - Handle Missing Values: Identify and address missing values by summary and then fill them and sure that there is no missing values in data.\n",
    "  - Outlier Detection and Treatment: Detect and handle outliers in the dataset, which could impact the model's accuracy.\n",
    "  - Dummy variable creation(categorical data): Transform categorical variables (e.g., \"College\" and \"City\") into 0 or 1.\n",
    "  - Normalize Data: Normalize numerical features to bring them to a common scale to avoid any feature dominating the model.\n",
    "  - Feature Selection: Use statistical techniques such as Lasso, Ridge, or correlation analysis to select the most relevant features for salary prediction.\n",
    "- **Train test split**\n",
    "   - diving the data into x and y then divide it into train data and test data for traning and testing of model.\n",
    "- **Model Selection and Statistics for accuracy :**\n",
    "    - Choose different regression models that are avialable for the given task like (Lasso regression,Ridge regression,Decision tree , Random forst ,         Boosting models ,Linear regression)\n",
    "\n",
    "     - Once the model is trained, statisticians would use statistical methods to evaluate its performance. One common method used in evaluating      regression models is Mean Squared Error (MSE), which measures the average difference between the predicted salary and the actual salary. A lower MSE indicates that the model is making more accurate predictions. Other metrics like R-Squared and AIC can also be used to evaluate the model. Additionally, statisticians would also use statistical hypothesis testing to evaluate the significance of the model's coefficients and to make sure that the results are reliable and not just by chance.\n",
    "- **Model Comparison:**\n",
    "    - Compare the performance of different models and select the one with the best accuracy and generalization.\n",
    "- **Further Improvement:**\n",
    "    - Consider additional techniques for model improvement, such as scaling, hyperparameter tuning, and ensemble methods."
   ]
  },
  {
   "cell_type": "markdown",
   "id": "0429587f-81ab-40e1-8118-62dd79247e3c",
   "metadata": {},
   "source": [
    "## <b> Q3 What were the available ML model options you had to perform this task? </b>"
   ]
  },
  {
   "cell_type": "markdown",
   "id": "971b6129-93b1-437e-9295-94f831b7b793",
   "metadata": {},
   "source": [
    "#### -> It is a regression task so all the resgreesion models can be used here to predict the salary \n",
    "\n",
    "**1. Linear Regression:**\n",
    "- Linear regression is a simple and interpretable model that assumes a linear relationship between the features and the target variable (salary). It's a good starting point and can provide baseline performance.\n",
    "\n",
    "**2. Ridge Regression and Lasso Regression:**\n",
    "- Ridge and Lasso regression are regularization techniques that can be used to handle multicollinearity and prevent overfitting. They are variants of linear regression that add regularization terms to the cost function.\n",
    "\n",
    "**3. Simple Decision Trees:**\n",
    "- Decision tree is a tree based model that is udef to predict the classification as well as regression model it is very close to human thiking to approach th task\n",
    "\n",
    "**4. Random forest:** \n",
    " - A Random Forest model is an ensemble learning method used for classification and regression tasks. It operates by constructing multiple decision trees during training and outputting the class that is the mode of the classes (classification) or mean prediction (regression) of the individual trees.\n",
    "\n",
    "**5. Bagging:** \n",
    "- Bagging, short for Bootstrap Aggregating, is an ensemble machine learning technique designed to improve the stability and accuracy of machine learning algorithms. It reduces variance and helps to prevent overfitting. The core idea behind bagging is to train multiple models on different subsets of the data and then combine their outputs to produce a more accurate and robust prediction. \n",
    "\n",
    "**6. Gradient boosting:**\n",
    " - Gradient Boosting is an ensemble learning technique used for both classification and regression tasks. It builds a model sequentially by adding new models (usually decision trees) that correct errors made by the previous models. Each new model is trained to predict the residuals or errors of the previous models, and their predictions are combined to produce a final output.\n",
    "\n",
    "**7. AdaBoost:** \n",
    " - AdaBoost, short for Adaptive Boosting, is an ensemble learning technique used for classification and regression tasks. It combines multiple weak learners, typically simple decision trees (called decision stumps), to create a strong predictive model. AdaBoost assigns weights to each training instance, increasing the weight of misclassified instances and decreasing the weight of correctly classified ones. In subsequent rounds, new models focus more on the harder-to-classify examples. The final prediction is a weighted majority vote of all the models.\n",
    "\n",
    "**8. XG boost:** \n",
    "- XGBoost, short for Extreme Gradient Boosting, is an advanced ensemble learning technique based on gradient boosting. It is designed to be highly efficient, flexible, and portable, often outperforming other algorithms due to its speed and accuracy. XGBoost uses a combination of decision trees and gradient boosting, optimizing model performance by minimizing errors more effectively.\n",
    "\n"
   ]
  },
  {
   "cell_type": "markdown",
   "id": "5cf99715-3232-4f82-b99d-f88837d4d76f",
   "metadata": {},
   "source": [
    "## <b> Q4 Which model’s performance is best and what could be the possible reason for that? </b>"
   ]
  },
  {
   "cell_type": "markdown",
   "id": "8befef6c-116f-4bec-8c0f-6de2eb487a3d",
   "metadata": {},
   "source": [
    "- If we consider R-squared as the primary metric for model performance, Random Forest is the top performer, followed by Linear Regression and Lasso. It's essential to consider other factors like computational efficiency, model interpretability, and the specific goals of your application when choosing the best model."
   ]
  },
  {
   "cell_type": "markdown",
   "id": "0e5d9868-bb6d-44e5-b61d-abb750a103ca",
   "metadata": {},
   "source": [
    "## <b/> Q5 What steps can you take to improve this selected model’s performance even further? </b>"
   ]
  },
  {
   "cell_type": "markdown",
   "id": "01008555-5ad4-4968-b33a-1fb92ac37463",
   "metadata": {},
   "source": [
    "#### Steps to increase model performance\n",
    "- **Increase the Number of Trees (Estimators):**\n",
    "    Random Forest's performance often benefits from increasing the number of decision trees (estimators) in the ensemble.\n",
    "- **Tune Hyperparameters:** Perform a more thorough hyperparameter tuning by experimenting with different values for parameters like max_depth, min_samples_split, min_samples_leaf, and max_features. Grid Search or Randomized Search can help find the optimal combination of hyperparameters.\n",
    "- **Feature Selection:** Consider removing or reducing the importance of less informative features to improve the model's efficiency and potentially its performance."
   ]
  },
  {
   "cell_type": "markdown",
   "id": "301b9750-aa1d-4056-bbf0-3e0a36c37b98",
   "metadata": {},
   "source": [
    "# <b> Project starting </b>"
   ]
  },
  {
   "cell_type": "code",
   "execution_count": 13,
   "id": "98386791-3308-462d-8f75-d7f55b017c81",
   "metadata": {},
   "outputs": [],
   "source": [
    "#importing basic needed libraries numpy , pandas and sns\n",
    "import pandas as pd\n",
    "import numpy as np\n",
    "import seaborn as sns\n"
   ]
  },
  {
   "cell_type": "markdown",
   "id": "4149c05f-648c-499e-8503-fa1338ca0ec6",
   "metadata": {},
   "source": [
    "### <b> 1 Data loading <B/>"
   ]
  },
  {
   "cell_type": "code",
   "execution_count": 15,
   "id": "d60af4df-b045-4391-8653-71cceb39a5e0",
   "metadata": {},
   "outputs": [],
   "source": [
    "# Read a CSV file into a DataFrame to load the data\n",
    "\n",
    "df = pd.read_csv(\"C:/Users/VINAY KUMAR PATEL/Downloads/machine learning/ml project/ML case Study.csv\",header=0)\n",
    "college = pd.read_csv(\"C:/Users/VINAY KUMAR PATEL/Downloads/machine learning/ml project/Colleges.csv\",header=0)\n",
    "cities = pd.read_csv(\"C:/Users/VINAY KUMAR PATEL/Downloads/machine learning/ml project/cities.csv\",header=0)"
   ]
  },
  {
   "cell_type": "code",
   "execution_count": 16,
   "id": "ce3d2146-5fe2-4641-8d08-bb58958fb8b7",
   "metadata": {},
   "outputs": [
    {
     "data": {
      "text/html": [
       "<div>\n",
       "<style scoped>\n",
       "    .dataframe tbody tr th:only-of-type {\n",
       "        vertical-align: middle;\n",
       "    }\n",
       "\n",
       "    .dataframe tbody tr th {\n",
       "        vertical-align: top;\n",
       "    }\n",
       "\n",
       "    .dataframe thead th {\n",
       "        text-align: right;\n",
       "    }\n",
       "</style>\n",
       "<table border=\"1\" class=\"dataframe\">\n",
       "  <thead>\n",
       "    <tr style=\"text-align: right;\">\n",
       "      <th></th>\n",
       "      <th>College</th>\n",
       "      <th>City</th>\n",
       "      <th>Role</th>\n",
       "      <th>Previous CTC</th>\n",
       "      <th>Previous job change</th>\n",
       "      <th>Graduation Marks</th>\n",
       "      <th>EXP (Month)</th>\n",
       "      <th>CTC</th>\n",
       "    </tr>\n",
       "  </thead>\n",
       "  <tbody>\n",
       "    <tr>\n",
       "      <th>0</th>\n",
       "      <td>SVNIT Surat</td>\n",
       "      <td>Asansol</td>\n",
       "      <td>Manager</td>\n",
       "      <td>55523.0</td>\n",
       "      <td>3</td>\n",
       "      <td>66</td>\n",
       "      <td>19</td>\n",
       "      <td>71406.58</td>\n",
       "    </tr>\n",
       "    <tr>\n",
       "      <th>1</th>\n",
       "      <td>NIT Bhopal</td>\n",
       "      <td>Ajmer</td>\n",
       "      <td>Executive</td>\n",
       "      <td>57081.0</td>\n",
       "      <td>1</td>\n",
       "      <td>84</td>\n",
       "      <td>18</td>\n",
       "      <td>68005.87</td>\n",
       "    </tr>\n",
       "    <tr>\n",
       "      <th>2</th>\n",
       "      <td>IEM, Kolkata</td>\n",
       "      <td>Rajpur Sonarpur</td>\n",
       "      <td>Executive</td>\n",
       "      <td>60347.0</td>\n",
       "      <td>2</td>\n",
       "      <td>52</td>\n",
       "      <td>28</td>\n",
       "      <td>76764.02</td>\n",
       "    </tr>\n",
       "    <tr>\n",
       "      <th>3</th>\n",
       "      <td>KIIT, Bhubaneswar</td>\n",
       "      <td>Ajmer</td>\n",
       "      <td>Executive</td>\n",
       "      <td>49010.0</td>\n",
       "      <td>2</td>\n",
       "      <td>81</td>\n",
       "      <td>33</td>\n",
       "      <td>82092.39</td>\n",
       "    </tr>\n",
       "    <tr>\n",
       "      <th>4</th>\n",
       "      <td>DTU</td>\n",
       "      <td>Durgapur</td>\n",
       "      <td>Executive</td>\n",
       "      <td>57879.0</td>\n",
       "      <td>4</td>\n",
       "      <td>74</td>\n",
       "      <td>32</td>\n",
       "      <td>73878.10</td>\n",
       "    </tr>\n",
       "  </tbody>\n",
       "</table>\n",
       "</div>"
      ],
      "text/plain": [
       "             College             City       Role  Previous CTC  \\\n",
       "0        SVNIT Surat          Asansol    Manager       55523.0   \n",
       "1         NIT Bhopal            Ajmer  Executive       57081.0   \n",
       "2       IEM, Kolkata  Rajpur Sonarpur  Executive       60347.0   \n",
       "3  KIIT, Bhubaneswar            Ajmer  Executive       49010.0   \n",
       "4                DTU         Durgapur  Executive       57879.0   \n",
       "\n",
       "   Previous job change  Graduation Marks  EXP (Month)       CTC  \n",
       "0                    3                66           19  71406.58  \n",
       "1                    1                84           18  68005.87  \n",
       "2                    2                52           28  76764.02  \n",
       "3                    2                81           33  82092.39  \n",
       "4                    4                74           32  73878.10  "
      ]
     },
     "execution_count": 16,
     "metadata": {},
     "output_type": "execute_result"
    }
   ],
   "source": [
    "# viewing the data that we leaded\n",
    "df.head()"
   ]
  },
  {
   "cell_type": "code",
   "execution_count": 17,
   "id": "0d842194-f2bf-4030-9032-fd09d650c082",
   "metadata": {},
   "outputs": [
    {
     "data": {
      "text/html": [
       "<div>\n",
       "<style scoped>\n",
       "    .dataframe tbody tr th:only-of-type {\n",
       "        vertical-align: middle;\n",
       "    }\n",
       "\n",
       "    .dataframe tbody tr th {\n",
       "        vertical-align: top;\n",
       "    }\n",
       "\n",
       "    .dataframe thead th {\n",
       "        text-align: right;\n",
       "    }\n",
       "</style>\n",
       "<table border=\"1\" class=\"dataframe\">\n",
       "  <thead>\n",
       "    <tr style=\"text-align: right;\">\n",
       "      <th></th>\n",
       "      <th>Tier 1</th>\n",
       "      <th>Tier 2</th>\n",
       "      <th>Tier 3</th>\n",
       "    </tr>\n",
       "  </thead>\n",
       "  <tbody>\n",
       "    <tr>\n",
       "      <th>0</th>\n",
       "      <td>IIT Bombay</td>\n",
       "      <td>IIIT Bangalore</td>\n",
       "      <td>Ramaiah Institute of Technology, Bengaluru</td>\n",
       "    </tr>\n",
       "    <tr>\n",
       "      <th>1</th>\n",
       "      <td>IIT Delhi</td>\n",
       "      <td>IIIT Delhi</td>\n",
       "      <td>TIET/Thapar University</td>\n",
       "    </tr>\n",
       "    <tr>\n",
       "      <th>2</th>\n",
       "      <td>IIT Kharagpur</td>\n",
       "      <td>IGDTUW</td>\n",
       "      <td>Manipal Main Campus</td>\n",
       "    </tr>\n",
       "    <tr>\n",
       "      <th>3</th>\n",
       "      <td>IIT Madras</td>\n",
       "      <td>NIT Calicut</td>\n",
       "      <td>VIT Vellore</td>\n",
       "    </tr>\n",
       "    <tr>\n",
       "      <th>4</th>\n",
       "      <td>IIT Kanpur</td>\n",
       "      <td>IIITM Gwalior</td>\n",
       "      <td>SRM Main Campus</td>\n",
       "    </tr>\n",
       "  </tbody>\n",
       "</table>\n",
       "</div>"
      ],
      "text/plain": [
       "          Tier 1          Tier 2                                      Tier 3\n",
       "0     IIT Bombay  IIIT Bangalore  Ramaiah Institute of Technology, Bengaluru\n",
       "1      IIT Delhi      IIIT Delhi                      TIET/Thapar University\n",
       "2  IIT Kharagpur          IGDTUW                         Manipal Main Campus\n",
       "3     IIT Madras     NIT Calicut                                 VIT Vellore\n",
       "4     IIT Kanpur   IIITM Gwalior                             SRM Main Campus"
      ]
     },
     "execution_count": 17,
     "metadata": {},
     "output_type": "execute_result"
    }
   ],
   "source": [
    "# viewing the data that we leaded\n",
    "college.head()"
   ]
  },
  {
   "cell_type": "code",
   "execution_count": 18,
   "id": "11537d2c-aa53-4922-9cc8-ba2f59564f66",
   "metadata": {},
   "outputs": [
    {
     "data": {
      "text/html": [
       "<div>\n",
       "<style scoped>\n",
       "    .dataframe tbody tr th:only-of-type {\n",
       "        vertical-align: middle;\n",
       "    }\n",
       "\n",
       "    .dataframe tbody tr th {\n",
       "        vertical-align: top;\n",
       "    }\n",
       "\n",
       "    .dataframe thead th {\n",
       "        text-align: right;\n",
       "    }\n",
       "</style>\n",
       "<table border=\"1\" class=\"dataframe\">\n",
       "  <thead>\n",
       "    <tr style=\"text-align: right;\">\n",
       "      <th></th>\n",
       "      <th>Metrio City</th>\n",
       "      <th>non-metro cities</th>\n",
       "    </tr>\n",
       "  </thead>\n",
       "  <tbody>\n",
       "    <tr>\n",
       "      <th>0</th>\n",
       "      <td>Mumbai</td>\n",
       "      <td>Dehradun</td>\n",
       "    </tr>\n",
       "    <tr>\n",
       "      <th>1</th>\n",
       "      <td>Delhi</td>\n",
       "      <td>Durgapur</td>\n",
       "    </tr>\n",
       "    <tr>\n",
       "      <th>2</th>\n",
       "      <td>Kolkata</td>\n",
       "      <td>Asansol</td>\n",
       "    </tr>\n",
       "    <tr>\n",
       "      <th>3</th>\n",
       "      <td>Chennai</td>\n",
       "      <td>Rourkela</td>\n",
       "    </tr>\n",
       "    <tr>\n",
       "      <th>4</th>\n",
       "      <td>Bangalore</td>\n",
       "      <td>Kozhikode</td>\n",
       "    </tr>\n",
       "  </tbody>\n",
       "</table>\n",
       "</div>"
      ],
      "text/plain": [
       "  Metrio City non-metro cities\n",
       "0      Mumbai         Dehradun\n",
       "1       Delhi         Durgapur\n",
       "2     Kolkata          Asansol\n",
       "3     Chennai         Rourkela\n",
       "4   Bangalore        Kozhikode"
      ]
     },
     "execution_count": 18,
     "metadata": {},
     "output_type": "execute_result"
    }
   ],
   "source": [
    "# viewing the data that we leaded\n",
    "cities.head()"
   ]
  },
  {
   "cell_type": "markdown",
   "id": "5f227e03-e27d-44c2-b480-28583ba77e18",
   "metadata": {},
   "source": [
    "### <b> 2. Data Preprocessing <B/>"
   ]
  },
  {
   "cell_type": "code",
   "execution_count": 20,
   "id": "eb906ecc-d37c-42e3-ab0a-649cfb8536ce",
   "metadata": {},
   "outputs": [],
   "source": [
    "'''    Extract data from the \"Tier 1,\" \"Tier 2,\" and \"Tier 3\" columns of the 'college' DataFrame and then load it to ml case study csv to get\n",
    "colleges 'tier 1' 'tier 2' and 'tier 3'.     '''\n",
    "\n",
    "Tier1 = college[\"Tier 1\"].tolist()\n",
    "Tier2 = college[\"Tier 2\"].tolist()\n",
    "Tier3 = college[\"Tier 3\"].tolist()"
   ]
  },
  {
   "cell_type": "code",
   "execution_count": 27,
   "id": "632fdd01-b5f9-4d73-9e05-9d2b2f574211",
   "metadata": {},
   "outputs": [
    {
     "data": {
      "text/plain": [
       "['IIIT Bangalore',\n",
       " 'IIIT Delhi',\n",
       " 'IGDTUW',\n",
       " 'NIT Calicut',\n",
       " 'IIITM Gwalior',\n",
       " 'IIIT Lucknow',\n",
       " 'MNNIT Allahabad',\n",
       " 'Punjab Engineering College',\n",
       " 'DAIICT',\n",
       " 'MNIT Jaipur',\n",
       " 'NIT Durgapur',\n",
       " 'VNIT Nagpur',\n",
       " 'LNMIIT',\n",
       " 'BIT Mesra',\n",
       " 'SVNIT Surat',\n",
       " 'NIT Jalandhar',\n",
       " 'NIT Jamshedpur',\n",
       " 'NIT Kurukshetra',\n",
       " 'NIT Patna',\n",
       " 'NIT Raipur',\n",
       " 'NIT Bhopal',\n",
       " 'NIT Rourkela',\n",
       " 'NIT Silchar',\n",
       " 'NIT Sikkim',\n",
       " 'IIIT Jabalpur',\n",
       " 'Jalpaiguri Government Engineering College',\n",
       " 'IIEST/BESU Shibpur',\n",
       " 'R.V. College of Engineering']"
      ]
     },
     "execution_count": 27,
     "metadata": {},
     "output_type": "execute_result"
    }
   ],
   "source": [
    "# Printing data contains in Tier2\n",
    "\n",
    "Tier2"
   ]
  },
  {
   "cell_type": "code",
   "execution_count": 33,
   "id": "abc3a895-6298-4ea2-8824-9bb9f521e297",
   "metadata": {},
   "outputs": [],
   "source": [
    "# Using for loop and if else to assign the values Tier 1 , Tier 2 , Tier 3 to the ML case study csv file\n",
    "# If college comes in tier 1 list then assign the 1 .\n",
    "# If college comes in tier 2 list then assign the 2 .\n",
    "# If college comes in tier 1 list then assign the 1 .\n",
    "\n",
    "for item in df.College:\n",
    "    if item in Tier1:\n",
    "        df[\"College\"].replace(item,3,inplace=True)\n",
    "    elif item in Tier2:\n",
    "        df[\"College\"].replace(item,2,inplace=True)\n",
    "    elif item in Tier3:\n",
    "        df[\"College\"].replace(item,1,inplace=True)"
   ]
  },
  {
   "cell_type": "code",
   "execution_count": 35,
   "id": "ef35e4bb-c8f0-4e93-91c2-243d4c27f3e0",
   "metadata": {},
   "outputs": [
    {
     "data": {
      "text/html": [
       "<div>\n",
       "<style scoped>\n",
       "    .dataframe tbody tr th:only-of-type {\n",
       "        vertical-align: middle;\n",
       "    }\n",
       "\n",
       "    .dataframe tbody tr th {\n",
       "        vertical-align: top;\n",
       "    }\n",
       "\n",
       "    .dataframe thead th {\n",
       "        text-align: right;\n",
       "    }\n",
       "</style>\n",
       "<table border=\"1\" class=\"dataframe\">\n",
       "  <thead>\n",
       "    <tr style=\"text-align: right;\">\n",
       "      <th></th>\n",
       "      <th>College</th>\n",
       "      <th>City</th>\n",
       "      <th>Role</th>\n",
       "      <th>Previous CTC</th>\n",
       "      <th>Previous job change</th>\n",
       "      <th>Graduation Marks</th>\n",
       "      <th>EXP (Month)</th>\n",
       "      <th>CTC</th>\n",
       "    </tr>\n",
       "  </thead>\n",
       "  <tbody>\n",
       "    <tr>\n",
       "      <th>0</th>\n",
       "      <td>2</td>\n",
       "      <td>Asansol</td>\n",
       "      <td>Manager</td>\n",
       "      <td>55523.0</td>\n",
       "      <td>3</td>\n",
       "      <td>66</td>\n",
       "      <td>19</td>\n",
       "      <td>71406.58</td>\n",
       "    </tr>\n",
       "    <tr>\n",
       "      <th>1</th>\n",
       "      <td>2</td>\n",
       "      <td>Ajmer</td>\n",
       "      <td>Executive</td>\n",
       "      <td>57081.0</td>\n",
       "      <td>1</td>\n",
       "      <td>84</td>\n",
       "      <td>18</td>\n",
       "      <td>68005.87</td>\n",
       "    </tr>\n",
       "    <tr>\n",
       "      <th>2</th>\n",
       "      <td>1</td>\n",
       "      <td>Rajpur Sonarpur</td>\n",
       "      <td>Executive</td>\n",
       "      <td>60347.0</td>\n",
       "      <td>2</td>\n",
       "      <td>52</td>\n",
       "      <td>28</td>\n",
       "      <td>76764.02</td>\n",
       "    </tr>\n",
       "    <tr>\n",
       "      <th>3</th>\n",
       "      <td>1</td>\n",
       "      <td>Ajmer</td>\n",
       "      <td>Executive</td>\n",
       "      <td>49010.0</td>\n",
       "      <td>2</td>\n",
       "      <td>81</td>\n",
       "      <td>33</td>\n",
       "      <td>82092.39</td>\n",
       "    </tr>\n",
       "    <tr>\n",
       "      <th>4</th>\n",
       "      <td>3</td>\n",
       "      <td>Durgapur</td>\n",
       "      <td>Executive</td>\n",
       "      <td>57879.0</td>\n",
       "      <td>4</td>\n",
       "      <td>74</td>\n",
       "      <td>32</td>\n",
       "      <td>73878.10</td>\n",
       "    </tr>\n",
       "  </tbody>\n",
       "</table>\n",
       "</div>"
      ],
      "text/plain": [
       "   College             City       Role  Previous CTC  Previous job change  \\\n",
       "0        2          Asansol    Manager       55523.0                    3   \n",
       "1        2            Ajmer  Executive       57081.0                    1   \n",
       "2        1  Rajpur Sonarpur  Executive       60347.0                    2   \n",
       "3        1            Ajmer  Executive       49010.0                    2   \n",
       "4        3         Durgapur  Executive       57879.0                    4   \n",
       "\n",
       "   Graduation Marks  EXP (Month)       CTC  \n",
       "0                66           19  71406.58  \n",
       "1                84           18  68005.87  \n",
       "2                52           28  76764.02  \n",
       "3                81           33  82092.39  \n",
       "4                74           32  73878.10  "
      ]
     },
     "execution_count": 35,
     "metadata": {},
     "output_type": "execute_result"
    }
   ],
   "source": [
    "df.head()"
   ]
  },
  {
   "cell_type": "code",
   "execution_count": 37,
   "id": "d1d6062b-e5d9-4969-994b-7255bf83fa19",
   "metadata": {},
   "outputs": [],
   "source": [
    "# Extracting lists of metropolitan and non-metropolitan cities from the 'cities' DataFrame\n",
    "\n",
    "metro = cities['Metrio City'].tolist()\n",
    "non_metro_cities = cities['non-metro cities'].tolist()"
   ]
  },
  {
   "cell_type": "code",
   "execution_count": 41,
   "id": "b3d301a0-bfcc-44d4-980d-d7adc5168154",
   "metadata": {},
   "outputs": [],
   "source": [
    "# Repeating previpus steps and assigning value as 1 if city is merto and 0 if non metro\n",
    "\n",
    "for item in df.City:\n",
    "    if item in metro:\n",
    "        df['City'].replace(item,1,inplace=True)\n",
    "    elif item in non_metro_cities:\n",
    "        df['City'].replace(item,0,inplace=True)"
   ]
  },
  {
   "cell_type": "code",
   "execution_count": 43,
   "id": "26a1cec8-1666-4d07-b6e1-677f7622df81",
   "metadata": {},
   "outputs": [
    {
     "data": {
      "text/html": [
       "<div>\n",
       "<style scoped>\n",
       "    .dataframe tbody tr th:only-of-type {\n",
       "        vertical-align: middle;\n",
       "    }\n",
       "\n",
       "    .dataframe tbody tr th {\n",
       "        vertical-align: top;\n",
       "    }\n",
       "\n",
       "    .dataframe thead th {\n",
       "        text-align: right;\n",
       "    }\n",
       "</style>\n",
       "<table border=\"1\" class=\"dataframe\">\n",
       "  <thead>\n",
       "    <tr style=\"text-align: right;\">\n",
       "      <th></th>\n",
       "      <th>College</th>\n",
       "      <th>City</th>\n",
       "      <th>Role</th>\n",
       "      <th>Previous CTC</th>\n",
       "      <th>Previous job change</th>\n",
       "      <th>Graduation Marks</th>\n",
       "      <th>EXP (Month)</th>\n",
       "      <th>CTC</th>\n",
       "    </tr>\n",
       "  </thead>\n",
       "  <tbody>\n",
       "    <tr>\n",
       "      <th>0</th>\n",
       "      <td>2</td>\n",
       "      <td>0</td>\n",
       "      <td>Manager</td>\n",
       "      <td>55523.0</td>\n",
       "      <td>3</td>\n",
       "      <td>66</td>\n",
       "      <td>19</td>\n",
       "      <td>71406.58</td>\n",
       "    </tr>\n",
       "    <tr>\n",
       "      <th>1</th>\n",
       "      <td>2</td>\n",
       "      <td>0</td>\n",
       "      <td>Executive</td>\n",
       "      <td>57081.0</td>\n",
       "      <td>1</td>\n",
       "      <td>84</td>\n",
       "      <td>18</td>\n",
       "      <td>68005.87</td>\n",
       "    </tr>\n",
       "    <tr>\n",
       "      <th>2</th>\n",
       "      <td>1</td>\n",
       "      <td>0</td>\n",
       "      <td>Executive</td>\n",
       "      <td>60347.0</td>\n",
       "      <td>2</td>\n",
       "      <td>52</td>\n",
       "      <td>28</td>\n",
       "      <td>76764.02</td>\n",
       "    </tr>\n",
       "    <tr>\n",
       "      <th>3</th>\n",
       "      <td>1</td>\n",
       "      <td>0</td>\n",
       "      <td>Executive</td>\n",
       "      <td>49010.0</td>\n",
       "      <td>2</td>\n",
       "      <td>81</td>\n",
       "      <td>33</td>\n",
       "      <td>82092.39</td>\n",
       "    </tr>\n",
       "    <tr>\n",
       "      <th>4</th>\n",
       "      <td>3</td>\n",
       "      <td>0</td>\n",
       "      <td>Executive</td>\n",
       "      <td>57879.0</td>\n",
       "      <td>4</td>\n",
       "      <td>74</td>\n",
       "      <td>32</td>\n",
       "      <td>73878.10</td>\n",
       "    </tr>\n",
       "  </tbody>\n",
       "</table>\n",
       "</div>"
      ],
      "text/plain": [
       "   College  City       Role  Previous CTC  Previous job change  \\\n",
       "0        2     0    Manager       55523.0                    3   \n",
       "1        2     0  Executive       57081.0                    1   \n",
       "2        1     0  Executive       60347.0                    2   \n",
       "3        1     0  Executive       49010.0                    2   \n",
       "4        3     0  Executive       57879.0                    4   \n",
       "\n",
       "   Graduation Marks  EXP (Month)       CTC  \n",
       "0                66           19  71406.58  \n",
       "1                84           18  68005.87  \n",
       "2                52           28  76764.02  \n",
       "3                81           33  82092.39  \n",
       "4                74           32  73878.10  "
      ]
     },
     "execution_count": 43,
     "metadata": {},
     "output_type": "execute_result"
    }
   ],
   "source": [
    "df.head()"
   ]
  },
  {
   "cell_type": "markdown",
   "id": "93829491-9651-4ccb-9d9b-759f15b85315",
   "metadata": {},
   "source": [
    "- <B> Dummy variable creation </B>"
   ]
  },
  {
   "cell_type": "code",
   "execution_count": 46,
   "id": "3828fc7e-4031-43e0-9571-50a6d5910357",
   "metadata": {},
   "outputs": [],
   "source": [
    "# creating dummy for cateogarical column\n",
    "\n",
    "df = pd.get_dummies(df, drop_first=True).astype(int)"
   ]
  },
  {
   "cell_type": "code",
   "execution_count": 48,
   "id": "9f85094b-07fb-44be-b1f4-032ab1839e18",
   "metadata": {},
   "outputs": [
    {
     "data": {
      "text/html": [
       "<div>\n",
       "<style scoped>\n",
       "    .dataframe tbody tr th:only-of-type {\n",
       "        vertical-align: middle;\n",
       "    }\n",
       "\n",
       "    .dataframe tbody tr th {\n",
       "        vertical-align: top;\n",
       "    }\n",
       "\n",
       "    .dataframe thead th {\n",
       "        text-align: right;\n",
       "    }\n",
       "</style>\n",
       "<table border=\"1\" class=\"dataframe\">\n",
       "  <thead>\n",
       "    <tr style=\"text-align: right;\">\n",
       "      <th></th>\n",
       "      <th>College</th>\n",
       "      <th>City</th>\n",
       "      <th>Previous CTC</th>\n",
       "      <th>Previous job change</th>\n",
       "      <th>Graduation Marks</th>\n",
       "      <th>EXP (Month)</th>\n",
       "      <th>CTC</th>\n",
       "      <th>Role_Manager</th>\n",
       "    </tr>\n",
       "  </thead>\n",
       "  <tbody>\n",
       "    <tr>\n",
       "      <th>0</th>\n",
       "      <td>2</td>\n",
       "      <td>0</td>\n",
       "      <td>55523</td>\n",
       "      <td>3</td>\n",
       "      <td>66</td>\n",
       "      <td>19</td>\n",
       "      <td>71406</td>\n",
       "      <td>1</td>\n",
       "    </tr>\n",
       "    <tr>\n",
       "      <th>1</th>\n",
       "      <td>2</td>\n",
       "      <td>0</td>\n",
       "      <td>57081</td>\n",
       "      <td>1</td>\n",
       "      <td>84</td>\n",
       "      <td>18</td>\n",
       "      <td>68005</td>\n",
       "      <td>0</td>\n",
       "    </tr>\n",
       "    <tr>\n",
       "      <th>2</th>\n",
       "      <td>1</td>\n",
       "      <td>0</td>\n",
       "      <td>60347</td>\n",
       "      <td>2</td>\n",
       "      <td>52</td>\n",
       "      <td>28</td>\n",
       "      <td>76764</td>\n",
       "      <td>0</td>\n",
       "    </tr>\n",
       "    <tr>\n",
       "      <th>3</th>\n",
       "      <td>1</td>\n",
       "      <td>0</td>\n",
       "      <td>49010</td>\n",
       "      <td>2</td>\n",
       "      <td>81</td>\n",
       "      <td>33</td>\n",
       "      <td>82092</td>\n",
       "      <td>0</td>\n",
       "    </tr>\n",
       "    <tr>\n",
       "      <th>4</th>\n",
       "      <td>3</td>\n",
       "      <td>0</td>\n",
       "      <td>57879</td>\n",
       "      <td>4</td>\n",
       "      <td>74</td>\n",
       "      <td>32</td>\n",
       "      <td>73878</td>\n",
       "      <td>0</td>\n",
       "    </tr>\n",
       "  </tbody>\n",
       "</table>\n",
       "</div>"
      ],
      "text/plain": [
       "   College  City  Previous CTC  Previous job change  Graduation Marks  \\\n",
       "0        2     0         55523                    3                66   \n",
       "1        2     0         57081                    1                84   \n",
       "2        1     0         60347                    2                52   \n",
       "3        1     0         49010                    2                81   \n",
       "4        3     0         57879                    4                74   \n",
       "\n",
       "   EXP (Month)    CTC  Role_Manager  \n",
       "0           19  71406             1  \n",
       "1           18  68005             0  \n",
       "2           28  76764             0  \n",
       "3           33  82092             0  \n",
       "4           32  73878             0  "
      ]
     },
     "execution_count": 48,
     "metadata": {},
     "output_type": "execute_result"
    }
   ],
   "source": [
    "df.head()"
   ]
  },
  {
   "cell_type": "markdown",
   "id": "de36bf0b-909c-4d6c-9b53-73da6c72306c",
   "metadata": {},
   "source": [
    " - <b> Checking for null value </b>"
   ]
  },
  {
   "cell_type": "code",
   "execution_count": 51,
   "id": "c639c8e5-542e-4a88-998c-ba2d98c14cea",
   "metadata": {},
   "outputs": [
    {
     "data": {
      "text/html": [
       "<div>\n",
       "<style scoped>\n",
       "    .dataframe tbody tr th:only-of-type {\n",
       "        vertical-align: middle;\n",
       "    }\n",
       "\n",
       "    .dataframe tbody tr th {\n",
       "        vertical-align: top;\n",
       "    }\n",
       "\n",
       "    .dataframe thead th {\n",
       "        text-align: right;\n",
       "    }\n",
       "</style>\n",
       "<table border=\"1\" class=\"dataframe\">\n",
       "  <thead>\n",
       "    <tr style=\"text-align: right;\">\n",
       "      <th></th>\n",
       "      <th>College</th>\n",
       "      <th>City</th>\n",
       "      <th>Previous CTC</th>\n",
       "      <th>Previous job change</th>\n",
       "      <th>Graduation Marks</th>\n",
       "      <th>EXP (Month)</th>\n",
       "      <th>CTC</th>\n",
       "      <th>Role_Manager</th>\n",
       "    </tr>\n",
       "  </thead>\n",
       "  <tbody>\n",
       "    <tr>\n",
       "      <th>count</th>\n",
       "      <td>1589.000000</td>\n",
       "      <td>1589.000000</td>\n",
       "      <td>1589.000000</td>\n",
       "      <td>1589.000000</td>\n",
       "      <td>1589.000000</td>\n",
       "      <td>1589.000000</td>\n",
       "      <td>1589.000000</td>\n",
       "      <td>1589.000000</td>\n",
       "    </tr>\n",
       "    <tr>\n",
       "      <th>mean</th>\n",
       "      <td>2.024544</td>\n",
       "      <td>0.514160</td>\n",
       "      <td>55518.453744</td>\n",
       "      <td>2.528634</td>\n",
       "      <td>59.855255</td>\n",
       "      <td>39.044682</td>\n",
       "      <td>75352.790434</td>\n",
       "      <td>0.206419</td>\n",
       "    </tr>\n",
       "    <tr>\n",
       "      <th>std</th>\n",
       "      <td>0.838330</td>\n",
       "      <td>0.499957</td>\n",
       "      <td>6655.218445</td>\n",
       "      <td>1.123918</td>\n",
       "      <td>14.935139</td>\n",
       "      <td>14.108875</td>\n",
       "      <td>12587.293679</td>\n",
       "      <td>0.404862</td>\n",
       "    </tr>\n",
       "    <tr>\n",
       "      <th>min</th>\n",
       "      <td>1.000000</td>\n",
       "      <td>0.000000</td>\n",
       "      <td>36990.000000</td>\n",
       "      <td>1.000000</td>\n",
       "      <td>35.000000</td>\n",
       "      <td>18.000000</td>\n",
       "      <td>53020.000000</td>\n",
       "      <td>0.000000</td>\n",
       "    </tr>\n",
       "    <tr>\n",
       "      <th>25%</th>\n",
       "      <td>1.000000</td>\n",
       "      <td>0.000000</td>\n",
       "      <td>50518.000000</td>\n",
       "      <td>2.000000</td>\n",
       "      <td>46.000000</td>\n",
       "      <td>26.000000</td>\n",
       "      <td>66902.000000</td>\n",
       "      <td>0.000000</td>\n",
       "    </tr>\n",
       "    <tr>\n",
       "      <th>50%</th>\n",
       "      <td>2.000000</td>\n",
       "      <td>1.000000</td>\n",
       "      <td>55291.000000</td>\n",
       "      <td>3.000000</td>\n",
       "      <td>60.000000</td>\n",
       "      <td>39.000000</td>\n",
       "      <td>73028.000000</td>\n",
       "      <td>0.000000</td>\n",
       "    </tr>\n",
       "    <tr>\n",
       "      <th>75%</th>\n",
       "      <td>3.000000</td>\n",
       "      <td>1.000000</td>\n",
       "      <td>60109.000000</td>\n",
       "      <td>4.000000</td>\n",
       "      <td>73.000000</td>\n",
       "      <td>51.000000</td>\n",
       "      <td>80588.000000</td>\n",
       "      <td>0.000000</td>\n",
       "    </tr>\n",
       "    <tr>\n",
       "      <th>max</th>\n",
       "      <td>3.000000</td>\n",
       "      <td>1.000000</td>\n",
       "      <td>77911.000000</td>\n",
       "      <td>4.000000</td>\n",
       "      <td>85.000000</td>\n",
       "      <td>64.000000</td>\n",
       "      <td>123416.000000</td>\n",
       "      <td>1.000000</td>\n",
       "    </tr>\n",
       "  </tbody>\n",
       "</table>\n",
       "</div>"
      ],
      "text/plain": [
       "           College         City  Previous CTC  Previous job change  \\\n",
       "count  1589.000000  1589.000000   1589.000000          1589.000000   \n",
       "mean      2.024544     0.514160  55518.453744             2.528634   \n",
       "std       0.838330     0.499957   6655.218445             1.123918   \n",
       "min       1.000000     0.000000  36990.000000             1.000000   \n",
       "25%       1.000000     0.000000  50518.000000             2.000000   \n",
       "50%       2.000000     1.000000  55291.000000             3.000000   \n",
       "75%       3.000000     1.000000  60109.000000             4.000000   \n",
       "max       3.000000     1.000000  77911.000000             4.000000   \n",
       "\n",
       "       Graduation Marks  EXP (Month)            CTC  Role_Manager  \n",
       "count       1589.000000  1589.000000    1589.000000   1589.000000  \n",
       "mean          59.855255    39.044682   75352.790434      0.206419  \n",
       "std           14.935139    14.108875   12587.293679      0.404862  \n",
       "min           35.000000    18.000000   53020.000000      0.000000  \n",
       "25%           46.000000    26.000000   66902.000000      0.000000  \n",
       "50%           60.000000    39.000000   73028.000000      0.000000  \n",
       "75%           73.000000    51.000000   80588.000000      0.000000  \n",
       "max           85.000000    64.000000  123416.000000      1.000000  "
      ]
     },
     "execution_count": 51,
     "metadata": {},
     "output_type": "execute_result"
    }
   ],
   "source": [
    "df.describe()"
   ]
  },
  {
   "cell_type": "markdown",
   "id": "d27f249a-1a2f-40e9-9eaa-754b878be996",
   "metadata": {},
   "source": [
    "#####  Note:- There is no null values in the data as we see the describe command count values are same in all. so, no need to fill null values. "
   ]
  },
  {
   "cell_type": "markdown",
   "id": "9ca0834a-b8be-4433-85b6-930ea4426b17",
   "metadata": {},
   "source": [
    "- <B> Correlation Analysis </b>"
   ]
  },
  {
   "cell_type": "code",
   "execution_count": 55,
   "id": "6d04cd4c-4eae-484b-9a88-2b1372de16a4",
   "metadata": {},
   "outputs": [
    {
     "data": {
      "text/html": [
       "<div>\n",
       "<style scoped>\n",
       "    .dataframe tbody tr th:only-of-type {\n",
       "        vertical-align: middle;\n",
       "    }\n",
       "\n",
       "    .dataframe tbody tr th {\n",
       "        vertical-align: top;\n",
       "    }\n",
       "\n",
       "    .dataframe thead th {\n",
       "        text-align: right;\n",
       "    }\n",
       "</style>\n",
       "<table border=\"1\" class=\"dataframe\">\n",
       "  <thead>\n",
       "    <tr style=\"text-align: right;\">\n",
       "      <th></th>\n",
       "      <th>College</th>\n",
       "      <th>City</th>\n",
       "      <th>Previous CTC</th>\n",
       "      <th>Previous job change</th>\n",
       "      <th>Graduation Marks</th>\n",
       "      <th>EXP (Month)</th>\n",
       "      <th>CTC</th>\n",
       "      <th>Role_Manager</th>\n",
       "    </tr>\n",
       "  </thead>\n",
       "  <tbody>\n",
       "    <tr>\n",
       "      <th>College</th>\n",
       "      <td>1.000000</td>\n",
       "      <td>0.014946</td>\n",
       "      <td>-0.041979</td>\n",
       "      <td>0.055060</td>\n",
       "      <td>-0.003539</td>\n",
       "      <td>-0.011752</td>\n",
       "      <td>0.029592</td>\n",
       "      <td>0.014749</td>\n",
       "    </tr>\n",
       "    <tr>\n",
       "      <th>City</th>\n",
       "      <td>0.014946</td>\n",
       "      <td>1.000000</td>\n",
       "      <td>0.004644</td>\n",
       "      <td>0.051670</td>\n",
       "      <td>-0.018616</td>\n",
       "      <td>-0.023613</td>\n",
       "      <td>-0.020365</td>\n",
       "      <td>-0.048671</td>\n",
       "    </tr>\n",
       "    <tr>\n",
       "      <th>Previous CTC</th>\n",
       "      <td>-0.041979</td>\n",
       "      <td>0.004644</td>\n",
       "      <td>1.000000</td>\n",
       "      <td>0.005756</td>\n",
       "      <td>-0.032976</td>\n",
       "      <td>0.119163</td>\n",
       "      <td>0.257998</td>\n",
       "      <td>0.012321</td>\n",
       "    </tr>\n",
       "    <tr>\n",
       "      <th>Previous job change</th>\n",
       "      <td>0.055060</td>\n",
       "      <td>0.051670</td>\n",
       "      <td>0.005756</td>\n",
       "      <td>1.000000</td>\n",
       "      <td>0.019267</td>\n",
       "      <td>0.023488</td>\n",
       "      <td>0.011370</td>\n",
       "      <td>-0.017150</td>\n",
       "    </tr>\n",
       "    <tr>\n",
       "      <th>Graduation Marks</th>\n",
       "      <td>-0.003539</td>\n",
       "      <td>-0.018616</td>\n",
       "      <td>-0.032976</td>\n",
       "      <td>0.019267</td>\n",
       "      <td>1.000000</td>\n",
       "      <td>-0.057061</td>\n",
       "      <td>-0.005449</td>\n",
       "      <td>0.017858</td>\n",
       "    </tr>\n",
       "    <tr>\n",
       "      <th>EXP (Month)</th>\n",
       "      <td>-0.011752</td>\n",
       "      <td>-0.023613</td>\n",
       "      <td>0.119163</td>\n",
       "      <td>0.023488</td>\n",
       "      <td>-0.057061</td>\n",
       "      <td>1.000000</td>\n",
       "      <td>0.301117</td>\n",
       "      <td>-0.026751</td>\n",
       "    </tr>\n",
       "    <tr>\n",
       "      <th>CTC</th>\n",
       "      <td>0.029592</td>\n",
       "      <td>-0.020365</td>\n",
       "      <td>0.257998</td>\n",
       "      <td>0.011370</td>\n",
       "      <td>-0.005449</td>\n",
       "      <td>0.301117</td>\n",
       "      <td>1.000000</td>\n",
       "      <td>0.621310</td>\n",
       "    </tr>\n",
       "    <tr>\n",
       "      <th>Role_Manager</th>\n",
       "      <td>0.014749</td>\n",
       "      <td>-0.048671</td>\n",
       "      <td>0.012321</td>\n",
       "      <td>-0.017150</td>\n",
       "      <td>0.017858</td>\n",
       "      <td>-0.026751</td>\n",
       "      <td>0.621310</td>\n",
       "      <td>1.000000</td>\n",
       "    </tr>\n",
       "  </tbody>\n",
       "</table>\n",
       "</div>"
      ],
      "text/plain": [
       "                      College      City  Previous CTC  Previous job change  \\\n",
       "College              1.000000  0.014946     -0.041979             0.055060   \n",
       "City                 0.014946  1.000000      0.004644             0.051670   \n",
       "Previous CTC        -0.041979  0.004644      1.000000             0.005756   \n",
       "Previous job change  0.055060  0.051670      0.005756             1.000000   \n",
       "Graduation Marks    -0.003539 -0.018616     -0.032976             0.019267   \n",
       "EXP (Month)         -0.011752 -0.023613      0.119163             0.023488   \n",
       "CTC                  0.029592 -0.020365      0.257998             0.011370   \n",
       "Role_Manager         0.014749 -0.048671      0.012321            -0.017150   \n",
       "\n",
       "                     Graduation Marks  EXP (Month)       CTC  Role_Manager  \n",
       "College                     -0.003539    -0.011752  0.029592      0.014749  \n",
       "City                        -0.018616    -0.023613 -0.020365     -0.048671  \n",
       "Previous CTC                -0.032976     0.119163  0.257998      0.012321  \n",
       "Previous job change          0.019267     0.023488  0.011370     -0.017150  \n",
       "Graduation Marks             1.000000    -0.057061 -0.005449      0.017858  \n",
       "EXP (Month)                 -0.057061     1.000000  0.301117     -0.026751  \n",
       "CTC                         -0.005449     0.301117  1.000000      0.621310  \n",
       "Role_Manager                 0.017858    -0.026751  0.621310      1.000000  "
      ]
     },
     "execution_count": 55,
     "metadata": {},
     "output_type": "execute_result"
    }
   ],
   "source": [
    "df.corr()"
   ]
  },
  {
   "cell_type": "markdown",
   "id": "d2092e31-a16a-4825-86b3-09b0d0ed30b2",
   "metadata": {},
   "source": [
    "#####  Note:- By seeing the correlation matrix we can say that there is no columns which are highly correlated because in diffrent colums there is no diffrent columns pair having value greater than 0.80 and less than -0.80 . so, no need to remove any column "
   ]
  },
  {
   "cell_type": "markdown",
   "id": "89bcdedb-06e5-45bf-8955-727129e9d7cd",
   "metadata": {},
   "source": [
    "- <B> Outliers treatment </B>"
   ]
  },
  {
   "cell_type": "code",
   "execution_count": 59,
   "id": "e3803501-7fc1-49ae-ba98-e894c292859c",
   "metadata": {},
   "outputs": [
    {
     "data": {
      "text/plain": [
       "<Axes: ylabel='Previous CTC'>"
      ]
     },
     "execution_count": 59,
     "metadata": {},
     "output_type": "execute_result"
    },
    {
     "data": {
      "image/png": "[encoded data removed]",
      "text/plain": [
       "<Figure size 640x480 with 1 Axes>"
      ]
     },
     "metadata": {},
     "output_type": "display_data"
    }
   ],
   "source": [
    "# creating plot box plot for detection of outliers using seaborn\n",
    "sns.boxplot(df['Previous CTC'])"
   ]
  },
  {
   "cell_type": "code",
   "execution_count": 60,
   "id": "57b79048-83da-485a-95e3-86145382eac8",
   "metadata": {},
   "outputs": [
    {
     "data": {
      "text/plain": [
       "<Axes: ylabel='Graduation Marks'>"
      ]
     },
     "execution_count": 60,
     "metadata": {},
     "output_type": "execute_result"
    },
    {
     "data": {
      "image/png": "[encoded data removed]",
      "text/plain": [
       "<Figure size 640x480 with 1 Axes>"
      ]
     },
     "metadata": {},
     "output_type": "display_data"
    }
   ],
   "source": [
    "sns.boxplot(df['Graduation Marks'])"
   ]
  },
  {
   "cell_type": "code",
   "execution_count": 61,
   "id": "e93b2b66-070e-41e8-b47c-66790feed954",
   "metadata": {},
   "outputs": [
    {
     "data": {
      "text/plain": [
       "<Axes: ylabel='EXP (Month)'>"
      ]
     },
     "execution_count": 61,
     "metadata": {},
     "output_type": "execute_result"
    },
    {
     "data": {
      "image/png": "[encoded data removed]",
      "text/plain": [
       "<Figure size 640x480 with 1 Axes>"
      ]
     },
     "metadata": {},
     "output_type": "display_data"
    }
   ],
   "source": [
    "sns.boxplot(df['EXP (Month)'])"
   ]
  },
  {
   "cell_type": "code",
   "execution_count": 63,
   "id": "643b273f-bdb3-4515-af0c-ad108ec192dd",
   "metadata": {},
   "outputs": [
    {
     "data": {
      "text/plain": [
       "<Axes: ylabel='CTC'>"
      ]
     },
     "execution_count": 63,
     "metadata": {},
     "output_type": "execute_result"
    },
    {
     "data": {
      "image/png": "[encoded data removed]",
      "text/plain": [
       "<Figure size 640x480 with 1 Axes>"
      ]
     },
     "metadata": {},
     "output_type": "display_data"
    }
   ],
   "source": [
    "sns.boxplot(df['CTC'])"
   ]
  },
  {
   "cell_type": "markdown",
   "id": "74820858-4f6f-4abf-bca9-a18b6d3eca3a",
   "metadata": {},
   "source": [
    "##### Note :- we see that outlier present in 'previous ctc' and 'ctc'"
   ]
  },
  {
   "cell_type": "markdown",
   "id": "24104063-1d22-4c6b-96db-16bbeaaf421d",
   "metadata": {},
   "source": [
    "##### <b> Outlier treatment in previous ctc column "
   ]
  },
  {
   "cell_type": "code",
   "execution_count": 68,
   "id": "22089f59-f03e-46df-82f2-11d2ba571c17",
   "metadata": {},
   "outputs": [
    {
     "name": "stdout",
     "output_type": "stream",
     "text": [
      "This is upper limit 74495.5\n",
      "This is lower limit 36131.5\n"
     ]
    }
   ],
   "source": [
    "percent25 = df['Previous CTC'].quantile(0.25)  #getting 25 percentile value\n",
    "percent75 = df['Previous CTC'].quantile(0.75)  #getting 75 percentile value\n",
    "\n",
    "iqr = percent75-percent25    #calculation our 50% data range\n",
    "\n",
    "#setting upper and lower limit\n",
    "upper_limit = percent75 + 1.5*iqr\n",
    "lower_limit = percent25 - 1.5*iqr\n",
    "\n",
    "print(\"This is upper limit\", upper_limit)\n",
    "print(\"This is lower limit\", lower_limit)\n",
    "\n"
   ]
  },
  {
   "cell_type": "code",
   "execution_count": 69,
   "id": "2c66fa1a-c727-4aeb-b1ae-a49efb7c76a8",
   "metadata": {},
   "outputs": [
    {
     "data": {
      "text/html": [
       "<div>\n",
       "<style scoped>\n",
       "    .dataframe tbody tr th:only-of-type {\n",
       "        vertical-align: middle;\n",
       "    }\n",
       "\n",
       "    .dataframe tbody tr th {\n",
       "        vertical-align: top;\n",
       "    }\n",
       "\n",
       "    .dataframe thead th {\n",
       "        text-align: right;\n",
       "    }\n",
       "</style>\n",
       "<table border=\"1\" class=\"dataframe\">\n",
       "  <thead>\n",
       "    <tr style=\"text-align: right;\">\n",
       "      <th></th>\n",
       "      <th>College</th>\n",
       "      <th>City</th>\n",
       "      <th>Previous CTC</th>\n",
       "      <th>Previous job change</th>\n",
       "      <th>Graduation Marks</th>\n",
       "      <th>EXP (Month)</th>\n",
       "      <th>CTC</th>\n",
       "      <th>Role_Manager</th>\n",
       "    </tr>\n",
       "  </thead>\n",
       "  <tbody>\n",
       "    <tr>\n",
       "      <th>116</th>\n",
       "      <td>1</td>\n",
       "      <td>1</td>\n",
       "      <td>77911</td>\n",
       "      <td>1</td>\n",
       "      <td>50</td>\n",
       "      <td>58</td>\n",
       "      <td>87831</td>\n",
       "      <td>0</td>\n",
       "    </tr>\n",
       "    <tr>\n",
       "      <th>860</th>\n",
       "      <td>3</td>\n",
       "      <td>1</td>\n",
       "      <td>75785</td>\n",
       "      <td>4</td>\n",
       "      <td>63</td>\n",
       "      <td>37</td>\n",
       "      <td>110338</td>\n",
       "      <td>1</td>\n",
       "    </tr>\n",
       "    <tr>\n",
       "      <th>1088</th>\n",
       "      <td>1</td>\n",
       "      <td>1</td>\n",
       "      <td>76815</td>\n",
       "      <td>4</td>\n",
       "      <td>75</td>\n",
       "      <td>52</td>\n",
       "      <td>82684</td>\n",
       "      <td>0</td>\n",
       "    </tr>\n",
       "    <tr>\n",
       "      <th>1317</th>\n",
       "      <td>3</td>\n",
       "      <td>0</td>\n",
       "      <td>76070</td>\n",
       "      <td>2</td>\n",
       "      <td>54</td>\n",
       "      <td>18</td>\n",
       "      <td>58309</td>\n",
       "      <td>0</td>\n",
       "    </tr>\n",
       "    <tr>\n",
       "      <th>1454</th>\n",
       "      <td>3</td>\n",
       "      <td>1</td>\n",
       "      <td>77911</td>\n",
       "      <td>1</td>\n",
       "      <td>50</td>\n",
       "      <td>58</td>\n",
       "      <td>87831</td>\n",
       "      <td>0</td>\n",
       "    </tr>\n",
       "  </tbody>\n",
       "</table>\n",
       "</div>"
      ],
      "text/plain": [
       "      College  City  Previous CTC  Previous job change  Graduation Marks  \\\n",
       "116         1     1         77911                    1                50   \n",
       "860         3     1         75785                    4                63   \n",
       "1088        1     1         76815                    4                75   \n",
       "1317        3     0         76070                    2                54   \n",
       "1454        3     1         77911                    1                50   \n",
       "\n",
       "      EXP (Month)     CTC  Role_Manager  \n",
       "116            58   87831             0  \n",
       "860            37  110338             1  \n",
       "1088           52   82684             0  \n",
       "1317           18   58309             0  \n",
       "1454           58   87831             0  "
      ]
     },
     "execution_count": 69,
     "metadata": {},
     "output_type": "execute_result"
    }
   ],
   "source": [
    "#showing outliers of previous ctc\n",
    "df[(df['Previous CTC'] < lower_limit) | (df['Previous CTC'] > upper_limit)]"
   ]
  },
  {
   "cell_type": "markdown",
   "id": "3738d39b-c588-470b-b11a-9f998cd5e278",
   "metadata": {},
   "source": [
    "##### Note :- as we see outlier are not so large and may not effect the predictor so we can continue with these outlier"
   ]
  },
  {
   "cell_type": "markdown",
   "id": "c8bad03b-9e08-46d5-b3bd-0c53b822f7c0",
   "metadata": {},
   "source": [
    "##### <B> Outlier treatment in CTC column"
   ]
  },
  {
   "cell_type": "code",
   "execution_count": 75,
   "id": "f42c7715-7b40-417c-bfda-e09362754f25",
   "metadata": {},
   "outputs": [
    {
     "name": "stdout",
     "output_type": "stream",
     "text": [
      "This is upper limit 101117.0\n",
      "This is lower limit 46373.0\n"
     ]
    }
   ],
   "source": [
    "percent25 = df['CTC'].quantile(0.25)  #getting 25 percentile value\n",
    "percent75 = df['CTC'].quantile(0.75)  #getting 75 percentile value\n",
    "\n",
    "iqr = percent75-percent25    #calculation our 50% data range\n",
    "\n",
    "#setting upper and lower limit\n",
    "upper_limit = percent75 + 1.5*iqr\n",
    "lower_limit = percent25 - 1.5*iqr\n",
    "\n",
    "print(\"This is upper limit\", upper_limit)\n",
    "print(\"This is lower limit\", lower_limit)"
   ]
  },
  {
   "cell_type": "code",
   "execution_count": 77,
   "id": "0ff5537d-a5f2-4161-afdb-35db839c170b",
   "metadata": {},
   "outputs": [
    {
     "data": {
      "text/html": [
       "<div>\n",
       "<style scoped>\n",
       "    .dataframe tbody tr th:only-of-type {\n",
       "        vertical-align: middle;\n",
       "    }\n",
       "\n",
       "    .dataframe tbody tr th {\n",
       "        vertical-align: top;\n",
       "    }\n",
       "\n",
       "    .dataframe thead th {\n",
       "        text-align: right;\n",
       "    }\n",
       "</style>\n",
       "<table border=\"1\" class=\"dataframe\">\n",
       "  <thead>\n",
       "    <tr style=\"text-align: right;\">\n",
       "      <th></th>\n",
       "      <th>College</th>\n",
       "      <th>City</th>\n",
       "      <th>Previous CTC</th>\n",
       "      <th>Previous job change</th>\n",
       "      <th>Graduation Marks</th>\n",
       "      <th>EXP (Month)</th>\n",
       "      <th>CTC</th>\n",
       "      <th>Role_Manager</th>\n",
       "    </tr>\n",
       "  </thead>\n",
       "  <tbody>\n",
       "    <tr>\n",
       "      <th>14</th>\n",
       "      <td>1</td>\n",
       "      <td>0</td>\n",
       "      <td>66487</td>\n",
       "      <td>1</td>\n",
       "      <td>50</td>\n",
       "      <td>27</td>\n",
       "      <td>103595</td>\n",
       "      <td>1</td>\n",
       "    </tr>\n",
       "    <tr>\n",
       "      <th>29</th>\n",
       "      <td>2</td>\n",
       "      <td>0</td>\n",
       "      <td>65172</td>\n",
       "      <td>1</td>\n",
       "      <td>44</td>\n",
       "      <td>31</td>\n",
       "      <td>107138</td>\n",
       "      <td>1</td>\n",
       "    </tr>\n",
       "    <tr>\n",
       "      <th>30</th>\n",
       "      <td>3</td>\n",
       "      <td>0</td>\n",
       "      <td>58529</td>\n",
       "      <td>1</td>\n",
       "      <td>65</td>\n",
       "      <td>22</td>\n",
       "      <td>102763</td>\n",
       "      <td>1</td>\n",
       "    </tr>\n",
       "    <tr>\n",
       "      <th>34</th>\n",
       "      <td>3</td>\n",
       "      <td>0</td>\n",
       "      <td>60894</td>\n",
       "      <td>4</td>\n",
       "      <td>80</td>\n",
       "      <td>28</td>\n",
       "      <td>118651</td>\n",
       "      <td>1</td>\n",
       "    </tr>\n",
       "    <tr>\n",
       "      <th>38</th>\n",
       "      <td>2</td>\n",
       "      <td>0</td>\n",
       "      <td>57485</td>\n",
       "      <td>1</td>\n",
       "      <td>77</td>\n",
       "      <td>35</td>\n",
       "      <td>103774</td>\n",
       "      <td>1</td>\n",
       "    </tr>\n",
       "    <tr>\n",
       "      <th>...</th>\n",
       "      <td>...</td>\n",
       "      <td>...</td>\n",
       "      <td>...</td>\n",
       "      <td>...</td>\n",
       "      <td>...</td>\n",
       "      <td>...</td>\n",
       "      <td>...</td>\n",
       "      <td>...</td>\n",
       "    </tr>\n",
       "    <tr>\n",
       "      <th>1447</th>\n",
       "      <td>1</td>\n",
       "      <td>0</td>\n",
       "      <td>59099</td>\n",
       "      <td>2</td>\n",
       "      <td>67</td>\n",
       "      <td>63</td>\n",
       "      <td>103305</td>\n",
       "      <td>1</td>\n",
       "    </tr>\n",
       "    <tr>\n",
       "      <th>1461</th>\n",
       "      <td>3</td>\n",
       "      <td>0</td>\n",
       "      <td>55440</td>\n",
       "      <td>4</td>\n",
       "      <td>72</td>\n",
       "      <td>44</td>\n",
       "      <td>112826</td>\n",
       "      <td>1</td>\n",
       "    </tr>\n",
       "    <tr>\n",
       "      <th>1513</th>\n",
       "      <td>1</td>\n",
       "      <td>0</td>\n",
       "      <td>58639</td>\n",
       "      <td>2</td>\n",
       "      <td>46</td>\n",
       "      <td>63</td>\n",
       "      <td>109108</td>\n",
       "      <td>1</td>\n",
       "    </tr>\n",
       "    <tr>\n",
       "      <th>1523</th>\n",
       "      <td>2</td>\n",
       "      <td>1</td>\n",
       "      <td>70258</td>\n",
       "      <td>4</td>\n",
       "      <td>38</td>\n",
       "      <td>36</td>\n",
       "      <td>115126</td>\n",
       "      <td>1</td>\n",
       "    </tr>\n",
       "    <tr>\n",
       "      <th>1580</th>\n",
       "      <td>3</td>\n",
       "      <td>1</td>\n",
       "      <td>53027</td>\n",
       "      <td>4</td>\n",
       "      <td>69</td>\n",
       "      <td>55</td>\n",
       "      <td>106846</td>\n",
       "      <td>0</td>\n",
       "    </tr>\n",
       "  </tbody>\n",
       "</table>\n",
       "<p>94 rows × 8 columns</p>\n",
       "</div>"
      ],
      "text/plain": [
       "      College  City  Previous CTC  Previous job change  Graduation Marks  \\\n",
       "14          1     0         66487                    1                50   \n",
       "29          2     0         65172                    1                44   \n",
       "30          3     0         58529                    1                65   \n",
       "34          3     0         60894                    4                80   \n",
       "38          2     0         57485                    1                77   \n",
       "...       ...   ...           ...                  ...               ...   \n",
       "1447        1     0         59099                    2                67   \n",
       "1461        3     0         55440                    4                72   \n",
       "1513        1     0         58639                    2                46   \n",
       "1523        2     1         70258                    4                38   \n",
       "1580        3     1         53027                    4                69   \n",
       "\n",
       "      EXP (Month)     CTC  Role_Manager  \n",
       "14             27  103595             1  \n",
       "29             31  107138             1  \n",
       "30             22  102763             1  \n",
       "34             28  118651             1  \n",
       "38             35  103774             1  \n",
       "...           ...     ...           ...  \n",
       "1447           63  103305             1  \n",
       "1461           44  112826             1  \n",
       "1513           63  109108             1  \n",
       "1523           36  115126             1  \n",
       "1580           55  106846             0  \n",
       "\n",
       "[94 rows x 8 columns]"
      ]
     },
     "execution_count": 77,
     "metadata": {},
     "output_type": "execute_result"
    }
   ],
   "source": [
    "df[(df['CTC'] < lower_limit) | (df['CTC'] > upper_limit)]"
   ]
  },
  {
   "cell_type": "markdown",
   "id": "8ae05cea-2a56-4d6a-8fb2-0643e29da486",
   "metadata": {},
   "source": [
    "##### Note :- here also we see that outlier are not very large they are nearby upper limit and lower limit so we are continuing with outlier as it will not affect our predictor that much"
   ]
  },
  {
   "cell_type": "markdown",
   "id": "119e9406-8d80-442c-93bd-249c6cd24d56",
   "metadata": {},
   "source": [
    "#### <b> Feedback from pre processing </b>\n",
    "\n",
    "- We see outliers in CTC and Previous CTC\n",
    "- I think that the outlier are not large and they can't effect our predictor so that there is no need to remove the outlier\n",
    "- In correlation anlysis we dont see any correlation greater than 0.80 or less that -0.80 . so, not need to remove columns\n",
    "- We created dummy for role manager\n",
    "- We divided colleges in tier 1 ,2, 3 and cities in metro 0, 1\n",
    "- There is nothing to fill null values"
   ]
  },
  {
   "cell_type": "markdown",
   "id": "41aec514-0b87-40c8-a2bf-2f2d198d26f0",
   "metadata": {},
   "source": [
    "### <b>  3. Train test split"
   ]
  },
  {
   "cell_type": "code",
   "execution_count": 82,
   "id": "4e915adb-f676-4150-8378-6ae690fccbe1",
   "metadata": {},
   "outputs": [],
   "source": [
    "# Split data into dependent and Independent Variable\n",
    "\n",
    "X = df.loc[:, df.columns != 'CTC']\n",
    "y = df['CTC']"
   ]
  },
  {
   "cell_type": "code",
   "execution_count": 84,
   "id": "3a677930-2788-4024-a717-5f1c88a1f30a",
   "metadata": {},
   "outputs": [],
   "source": [
    "# Split Data into train and test with test_size = 0.2(80% data into train and 20% to test)\n",
    "\n",
    "from sklearn.model_selection import train_test_split  \n",
    "\n",
    "X_train, X_test, y_train, y_test = train_test_split(X, y, test_size = 0.2, random_state = 42)"
   ]
  },
  {
   "cell_type": "markdown",
   "id": "edae1c87-4e5c-427b-82ee-932f1bc6bd22",
   "metadata": {},
   "source": [
    "##### checking our train test split"
   ]
  },
  {
   "cell_type": "code",
   "execution_count": 86,
   "id": "cc8fe42a-b2b9-444f-8276-2a18a48b5566",
   "metadata": {},
   "outputs": [
    {
     "data": {
      "text/plain": [
       "(1271, 7)"
      ]
     },
     "execution_count": 86,
     "metadata": {},
     "output_type": "execute_result"
    }
   ],
   "source": [
    "X_train.shape"
   ]
  },
  {
   "cell_type": "code",
   "execution_count": 88,
   "id": "d4193327-5ff2-4e19-a19e-97e85d5e3bc6",
   "metadata": {},
   "outputs": [
    {
     "data": {
      "text/plain": [
       "(318, 7)"
      ]
     },
     "execution_count": 88,
     "metadata": {},
     "output_type": "execute_result"
    }
   ],
   "source": [
    "X_test.shape"
   ]
  },
  {
   "cell_type": "code",
   "execution_count": 211,
   "id": "90cfe6ac-3a3d-40e7-b416-621c9f73a40d",
   "metadata": {},
   "outputs": [
    {
     "data": {
      "text/plain": [
       "1137    54865\n",
       "371     76946\n",
       "354     67305\n",
       "711     73486\n",
       "173     66726\n",
       "Name: CTC, dtype: int32"
      ]
     },
     "execution_count": 211,
     "metadata": {},
     "output_type": "execute_result"
    }
   ],
   "source": [
    "y_train.head()"
   ]
  },
  {
   "cell_type": "code",
   "execution_count": 93,
   "id": "6afd241c-5831-40e0-854c-0e945bf92404",
   "metadata": {},
   "outputs": [
    {
     "data": {
      "text/plain": [
       "1079    74059\n",
       "405     84692\n",
       "1492    75028\n",
       "239     71001\n",
       "610     62426\n",
       "Name: CTC, dtype: int32"
      ]
     },
     "execution_count": 93,
     "metadata": {},
     "output_type": "execute_result"
    }
   ],
   "source": [
    "y_test.head()"
   ]
  },
  {
   "cell_type": "markdown",
   "id": "8a378261-080c-447a-9223-bb46c460c131",
   "metadata": {},
   "source": [
    "### <B> 4. Model Selection and Statistics for accuracy"
   ]
  },
  {
   "cell_type": "markdown",
   "id": "55b019b9-51d5-406b-8c7f-70e5321e43e7",
   "metadata": {},
   "source": [
    "### Machine Learning models without Feature Scaling and test size 0.2"
   ]
  },
  {
   "cell_type": "markdown",
   "id": "8442c933-8d95-4762-9f42-a5e8eec690dd",
   "metadata": {},
   "source": [
    "#### <b> A) Linear regression ( Without scaling test size 0.2)"
   ]
  },
  {
   "cell_type": "code",
   "execution_count": 98,
   "id": "d0e1b7a9-a9e8-4a7e-94ee-73873f1c15e2",
   "metadata": {},
   "outputs": [],
   "source": [
    "#importing required libraries\n",
    "from sklearn.linear_model import LinearRegression\n",
    "from sklearn.metrics import r2_score, mean_absolute_error, mean_squared_error"
   ]
  },
  {
   "cell_type": "code",
   "execution_count": 99,
   "id": "5e30dea9-b592-4a59-afa9-f29f25947110",
   "metadata": {},
   "outputs": [
    {
     "name": "stdout",
     "output_type": "stream",
     "text": [
      "Coef: [5.17506078e+02 4.82819963e+02 4.22240508e-01 8.73566281e+00\n",
      " 1.94069240e+00 2.43719557e+02 1.86020613e+04]\n",
      "Intercept: 37159.126641370385\n",
      "\n",
      "\n",
      "r2_score: 0.5933515097281492\n",
      "MAE: 7191.243727675015\n",
      "MSE: 77362921.92796242\n"
     ]
    }
   ],
   "source": [
    "# Create a LinearRegression model\n",
    "linear_reg = LinearRegression()\n",
    "\n",
    "# Fit the model to the training data\n",
    "linear_reg.fit(X_train, y_train)\n",
    "\n",
    "# Make predictions on the test data\n",
    "linear_reg_pred = linear_reg.predict(X_test)\n",
    "\n",
    "# Print the coefficients of the linear regression model\n",
    "print(\"Coef:\",linear_reg.coef_)\n",
    "\n",
    "# Print the intercept of the linear regression model\n",
    "print(\"Intercept:\",linear_reg.intercept_)\n",
    "\n",
    "print()\n",
    "print()\n",
    "\n",
    "# Calculate and print the R-squared (r2) score\n",
    "print(\"r2_score:\",r2_score(y_test, linear_reg_pred))\n",
    "\n",
    "# Calculate and print the Mean Absolute Error (MAE)\n",
    "print(\"MAE:\", mean_absolute_error(y_test, linear_reg_pred))\n",
    "\n",
    "# Calculate and print the Mean Squared Error (MSE)\n",
    "print(\"MSE:\", mean_squared_error(y_test, linear_reg_pred))\n"
   ]
  },
  {
   "cell_type": "markdown",
   "id": "c8f101f5-ee5d-433b-b641-d4a0501f7753",
   "metadata": {},
   "source": [
    "#### <b> B) Ridge regression ( Without scaling test size 0.2)"
   ]
  },
  {
   "cell_type": "code",
   "execution_count": 103,
   "id": "964ecd58-a05d-483c-ac19-288307a02754",
   "metadata": {},
   "outputs": [
    {
     "name": "stdout",
     "output_type": "stream",
     "text": [
      "Coef: [5.17161801e+02 4.79869763e+02 4.22275368e-01 8.24720190e+00\n",
      " 1.96363858e+00 2.43684648e+02 1.85564736e+04]\n",
      "Intercept: 37169.85723257522\n",
      "\n",
      "\n",
      "r2_score: 0.5930057182880146\n",
      "MAE: 7194.744364673603\n",
      "MSE: 77428707.08843015\n"
     ]
    }
   ],
   "source": [
    "# Import the Ridge regression model\n",
    "from sklearn.linear_model import Ridge\n",
    "ridge = Ridge(alpha=0.5, solver='cholesky')\n",
    "\n",
    "# Fit the model to training data\n",
    "ridge.fit(X_train, y_train)\n",
    "\n",
    "# Make prediction on test data\n",
    "ridge_predict = ridge.predict(X_test)\n",
    "\n",
    "\n",
    "# Print the coefficients of the linear regression model\n",
    "print(\"Coef:\",ridge.coef_)\n",
    "\n",
    "# Print the intercept of the linear regression model\n",
    "print(\"Intercept:\",ridge.intercept_)\n",
    "\n",
    "\n",
    "print()\n",
    "\n",
    "print()\n",
    "\n",
    "\n",
    "# Calculate and print the R-squared (r2) score\n",
    "print(\"r2_score:\",r2_score(y_test, ridge_predict))\n",
    "\n",
    "# Calculate and print the Mean Absolute Error (MAE)\n",
    "print(\"MAE:\", mean_absolute_error(y_test, ridge_predict))\n",
    "\n",
    "# Calculate and print the Mean Squared Error (MSE)\n",
    "print(\"MSE:\", mean_squared_error(y_test, ridge_predict))\n"
   ]
  },
  {
   "cell_type": "markdown",
   "id": "e522e031-6bac-43b2-ab7b-8346f2259108",
   "metadata": {},
   "source": [
    "#### <b> C) Lasso regression ( Without scaling test size 0.2)"
   ]
  },
  {
   "cell_type": "code",
   "execution_count": 106,
   "id": "93b7b38b-497f-41ab-86d5-a980a759b02f",
   "metadata": {},
   "outputs": [
    {
     "name": "stdout",
     "output_type": "stream",
     "text": [
      "Coef: [5.17102591e+02 4.81558426e+02 4.22240141e-01 8.53043708e+00\n",
      " 1.93918921e+00 2.43715112e+02 1.86000759e+04]\n",
      "Intercept: 37161.797438206406\n",
      "\n",
      "\n",
      "r2_score: 0.5933369144690608\n",
      "MAE: 7191.387233580885\n",
      "MSE: 77365698.60589531\n"
     ]
    }
   ],
   "source": [
    "# importing model \n",
    "from sklearn.linear_model import Lasso\n",
    "\n",
    "# Create Lasso regression with default parameters\n",
    "lasso = Lasso(alpha=0.3)\n",
    "\n",
    "# Fit model with train data\n",
    "lasso.fit(X_train, y_train)\n",
    "\n",
    "# Make prediction on test data\n",
    "lasso_pred = lasso.predict(X_test)\n",
    "\n",
    "# Print the coefficients of the linear regression model\n",
    "print(\"Coef:\",lasso.coef_)\n",
    "\n",
    "# Print the intercept of the linear regression model\n",
    "print(\"Intercept:\",lasso.intercept_)\n",
    "\n",
    "\n",
    "print()\n",
    "\n",
    "print()\n",
    "\n",
    "\n",
    "# Calculate and print the R-squared (r2) score to evaluate model performance\n",
    "print(\"r2_score:\",r2_score(y_test, lasso_pred))\n",
    "\n",
    "# Calculate and print the Mean Absolute Error (MAE) to measure prediction accuracy\n",
    "print(\"MAE:\", mean_absolute_error(y_test, lasso_pred))\n",
    "\n",
    "# Calculate and print the Mean Squared Error (MSE) to assess prediction accuracy\n",
    "print(\"MSE:\", mean_squared_error(y_test, lasso_pred))\n"
   ]
  },
  {
   "cell_type": "markdown",
   "id": "4abc1ad3-7b9d-4fa1-aef2-598e6fff6af5",
   "metadata": {},
   "source": [
    "#### <b> D) Decsion tree ( Without scaling test size 0.2)"
   ]
  },
  {
   "cell_type": "code",
   "execution_count": 109,
   "id": "2503a166-0f97-4b0e-95fd-1098f3d73d08",
   "metadata": {},
   "outputs": [
    {
     "name": "stdout",
     "output_type": "stream",
     "text": [
      "r2_score: 0.5974116918866258\n",
      "MAE: 6780.105736940578\n",
      "MSE: 76590491.77549943\n"
     ]
    }
   ],
   "source": [
    "# Import DecisionTreeRegressor\n",
    "from sklearn.tree import DecisionTreeRegressor\n",
    "\n",
    "\n",
    "# Create a DecisionTreeRegressor model max depth =4\n",
    "dtr = DecisionTreeRegressor(max_depth=4)\n",
    "\n",
    "# Train the model using the training data\n",
    "dtr.fit(X_train, y_train)\n",
    "\n",
    "# Train the model using the training data\n",
    "dtr_pred = dtr.predict(X_test)\n",
    "\n",
    "\n",
    "# Calculate and print the R-squared (r2) score to evaluate model performance\n",
    "print(\"r2_score:\",r2_score(y_test, dtr_pred))\n",
    "\n",
    "# Calculate and print the mean absolute error(MSE) score to evaluate model performance\n",
    "print(\"MAE:\", mean_absolute_error(y_test, dtr_pred))\n",
    "\n",
    "# Calculate and print the Mean Squared Error (MSE) to evaluate prediction errors\n",
    "print(\"MSE:\", mean_squared_error(y_test, dtr_pred))\n",
    "\n"
   ]
  },
  {
   "cell_type": "code",
   "execution_count": 111,
   "id": "47e89061-00c6-43cc-8eb5-83401a3c0062",
   "metadata": {},
   "outputs": [
    {
     "name": "stdout",
     "output_type": "stream",
     "text": [
      "r2_score: 0.5974116918866258\n",
      "MAE: 6780.105736940578\n",
      "MSE: 76590491.77549943\n"
     ]
    }
   ],
   "source": [
    "#importing gridsearchcv to get best parameter of decision tree\n",
    "from sklearn.model_selection import GridSearchCV\n",
    "\n",
    "# Parameters\n",
    "params_grid = {\"max_depth\": [4,5,6,7,8,9,10]}\n",
    "\n",
    "# Find best parameter for model\n",
    "grid_search = GridSearchCV(dtr, params_grid, n_jobs=-1, cv=5)\n",
    "\n",
    "#fiting model\n",
    "grid_search.fit(X_train, y_train)\n",
    "\n",
    "# Best parameters\n",
    "grid_search.best_params_\n",
    "\n",
    "# we fited the best model of dfr to cvdfr\n",
    "cvdfr = grid_search.best_estimator_\n",
    "\n",
    "# Train the model using the training data\n",
    "cvdtr_pred = dtr.predict(X_test)\n",
    "\n",
    "\n",
    "# Calculate and print the R-squared (r2) score to evaluate model performance\n",
    "print(\"r2_score:\",r2_score(y_test, cvdtr_pred))\n",
    "\n",
    "# Calculate and print the mean absolute error(MSE) score to evaluate model performance\n",
    "print(\"MAE:\", mean_absolute_error(y_test, cvdtr_pred))\n",
    "\n",
    "# Calculate and print the Mean Squared Error (MSE) to evaluate prediction errors\n",
    "print(\"MSE:\", mean_squared_error(y_test, cvdtr_pred))\n",
    "\n"
   ]
  },
  {
   "cell_type": "code",
   "execution_count": 112,
   "id": "70fcc735-f8e0-4c5b-808b-fd7f4b67882b",
   "metadata": {},
   "outputs": [
    {
     "data": {
      "text/plain": [
       "{'max_depth': 4}"
      ]
     },
     "execution_count": 112,
     "metadata": {},
     "output_type": "execute_result"
    }
   ],
   "source": [
    "# Best parameters\n",
    "grid_search.best_params_\n"
   ]
  },
  {
   "cell_type": "markdown",
   "id": "9feae907-0ee3-4232-be2d-819d46bf9318",
   "metadata": {},
   "source": [
    "### <B> E) Random forest ( Without scaling test size 0.2)"
   ]
  },
  {
   "cell_type": "code",
   "execution_count": 114,
   "id": "6ecbcefe-2185-4243-91d6-49e7fbc74749",
   "metadata": {},
   "outputs": [
    {
     "name": "stdout",
     "output_type": "stream",
     "text": [
      "r2_score: 0.6393807361034886\n",
      "MAE: 6336.2163562319065\n",
      "MSE: 68606082.71260142\n"
     ]
    }
   ],
   "source": [
    "# Import Random Forest from sklearn\n",
    "from sklearn.ensemble import RandomForestRegressor\n",
    "\n",
    "# Create Random forest regression\n",
    "rnd = RandomForestRegressor(n_jobs=-1, max_features=5, min_samples_split=3)\n",
    "\n",
    "# Fit model on train data\n",
    "rnd.fit(X_train, y_train)\n",
    "\n",
    "# Make prediction on test data\n",
    "rnd_pred = rnd.predict(X_test)\n",
    "\n",
    "# Calculate and print the R-squared (r2) score to evaluate model performance\n",
    "print(\"r2_score:\",r2_score(y_test, rnd_pred))\n",
    "\n",
    "# Calculate and print the mean absolute error(MSE) score to evaluate model performance\n",
    "print(\"MAE:\", mean_absolute_error(y_test, rnd_pred))\n",
    "\n",
    "# Calculate and print the Mean Squared Error (MSE) to evaluate prediction errors\n",
    "print(\"MSE:\", mean_squared_error(y_test, rnd_pred))"
   ]
  },
  {
   "cell_type": "code",
   "execution_count": 118,
   "id": "b724f773-092d-460a-b2aa-0477d4a30cbe",
   "metadata": {},
   "outputs": [
    {
     "name": "stdout",
     "output_type": "stream",
     "text": [
      "r2_score: 0.5974116918866258\n",
      "MAE: 6780.105736940578\n",
      "MSE: 76590491.77549943\n"
     ]
    }
   ],
   "source": [
    "#importing gridsearchcv to get best parameter of random forest regressor\n",
    "from sklearn.model_selection import GridSearchCV\n",
    "\n",
    "#parameter\n",
    "params_grid = {\"max_features\": [4,5,6,7,8,9,10],\n",
    "              \"min_samples_split\": [2,3,10]}\n",
    "\n",
    "\n",
    "# Find best parameter for model\n",
    "grid_search = GridSearchCV(rnd, params_grid, n_jobs=-1, cv=5)\n",
    "\n",
    "#fiting model\n",
    "grid_search.fit(X_train, y_train)\n",
    "\n",
    "# Best parameters\n",
    "grid_search.best_params_\n",
    "\n",
    "# we fited the best model of dfr to cvdfr\n",
    "cvrf = grid_search.best_estimator_\n",
    "\n",
    "# Train the model using the training data\n",
    "cvrf_pred = dtr.predict(X_test)\n",
    "\n",
    "\n",
    "# Calculate and print the R-squared (r2) score to evaluate model performance\n",
    "print(\"r2_score:\",r2_score(y_test, cvrf_pred))\n",
    "\n",
    "# Calculate and print the mean absolute error(MSE) score to evaluate model performance\n",
    "print(\"MAE:\", mean_absolute_error(y_test, cvrf_pred))\n",
    "\n",
    "# Calculate and print the Mean Squared Error (MSE) to evaluate prediction errors\n",
    "print(\"MSE:\", mean_squared_error(y_test, cvrf_pred))\n",
    "\n"
   ]
  },
  {
   "cell_type": "code",
   "execution_count": 119,
   "id": "d31b8ef4-23d4-4f68-9797-bd8ba471b1d3",
   "metadata": {},
   "outputs": [
    {
     "data": {
      "text/plain": [
       "{'max_features': 4, 'min_samples_split': 3}"
      ]
     },
     "execution_count": 119,
     "metadata": {},
     "output_type": "execute_result"
    }
   ],
   "source": [
    "# Best parameters\n",
    "grid_search.best_params_\n"
   ]
  },
  {
   "cell_type": "markdown",
   "id": "56410162-5f2f-4d68-80b2-45636310f204",
   "metadata": {},
   "source": [
    "### <B> F) Bagging ( Without scaling test size 0.2)"
   ]
  },
  {
   "cell_type": "code",
   "execution_count": 121,
   "id": "01ef2fc6-cd23-44e2-9224-adc37c8c528c",
   "metadata": {},
   "outputs": [
    {
     "name": "stdout",
     "output_type": "stream",
     "text": [
      "r2_score: 0.6393807361034886\n",
      "MAE: 6336.216356231907\n",
      "MSE: 68606082.71260142\n"
     ]
    }
   ],
   "source": [
    "# Import DecisionTreeRegressor\n",
    "from sklearn.tree import DecisionTreeRegressor\n",
    "\n",
    "\n",
    "# Create a DecisionTreeRegressor model max depth =4\n",
    "dtr = DecisionTreeRegressor(max_depth=4)\n",
    "\n",
    "\n",
    "# Import Bagging from sklearn\n",
    "from sklearn.ensemble import BaggingRegressor\n",
    "\n",
    "# Create bagging regression\n",
    "bgg = BaggingRegressor(estimator= dtr,bootstrap= True , n_jobs=-1,random_state=42)\n",
    "\n",
    "# Fit model on train data\n",
    "bgg.fit(X_train, y_train)\n",
    "\n",
    "# Make prediction on test data\n",
    "bgg_pred = rnd.predict(X_test)\n",
    "\n",
    "# Calculate and print the R-squared (r2) score to evaluate model performance\n",
    "print(\"r2_score:\",r2_score(y_test, bgg_pred))\n",
    "\n",
    "# Calculate and print the mean absolute error(MSE) score to evaluate model performance\n",
    "print(\"MAE:\", mean_absolute_error(y_test, bgg_pred))\n",
    "\n",
    "# Calculate and print the Mean Squared Error (MSE) to evaluate prediction errors\n",
    "print(\"MSE:\", mean_squared_error(y_test, bgg_pred))"
   ]
  },
  {
   "cell_type": "markdown",
   "id": "6bf74528-f7a3-4cb7-a9bb-b664c33c0fe5",
   "metadata": {},
   "source": [
    "### <B> G) Gradient boost ( Without scaling test size 0.2)"
   ]
  },
  {
   "cell_type": "code",
   "execution_count": 126,
   "id": "25b124f0-161e-4d30-9c4c-d5ac6c8185ba",
   "metadata": {},
   "outputs": [
    {
     "name": "stdout",
     "output_type": "stream",
     "text": [
      "r2_score: 0.6393807361034886\n",
      "MAE: 6336.216356231906\n",
      "MSE: 68606082.71260142\n"
     ]
    }
   ],
   "source": [
    "# Import gradient boost from sklearn\n",
    "from sklearn.ensemble import GradientBoostingRegressor\n",
    "\n",
    "# Create gradient boost regression\n",
    "gbr = GradientBoostingRegressor(learning_rate=0.2,random_state=42)\n",
    "\n",
    "# Fit model on train data\n",
    "gbr.fit(X_train, y_train)\n",
    "\n",
    "# Make prediction on test data\n",
    "gbr_pred = rnd.predict(X_test)\n",
    "\n",
    "# Calculate and print the R-squared (r2) score to evaluate model performance\n",
    "print(\"r2_score:\",r2_score(y_test, gbr_pred))\n",
    "\n",
    "# Calculate and print the mean absolute error(MSE) score to evaluate model performance\n",
    "print(\"MAE:\", mean_absolute_error(y_test, gbr_pred))\n",
    "\n",
    "# Calculate and print the Mean Squared Error (MSE) to evaluate prediction errors\n",
    "print(\"MSE:\", mean_squared_error(y_test, gbr_pred))\n",
    "\n"
   ]
  },
  {
   "cell_type": "markdown",
   "id": "d9290dc8-df27-4804-afea-8bcb108515e4",
   "metadata": {},
   "source": [
    "### <B> H) Adaboost ( Without scaling test size 0.2)"
   ]
  },
  {
   "cell_type": "code",
   "execution_count": 129,
   "id": "542726e9-efd9-40d6-9b58-63abdf6df607",
   "metadata": {},
   "outputs": [
    {
     "name": "stdout",
     "output_type": "stream",
     "text": [
      "r2_score: 0.6393807361034886\n",
      "MAE: 6336.2163562319065\n",
      "MSE: 68606082.71260142\n"
     ]
    }
   ],
   "source": [
    "# Import Ada boost from sklearn\n",
    "from sklearn.ensemble import AdaBoostRegressor\n",
    "\n",
    "# Create Ada boost regression\n",
    "abr = AdaBoostRegressor(learning_rate=0.2)\n",
    "\n",
    "# Fit model on train data\n",
    "abr.fit(X_train, y_train)\n",
    "\n",
    "# Make prediction on test data\n",
    "abr_pred = rnd.predict(X_test)\n",
    "\n",
    "# Calculate and print the R-squared (r2) score to evaluate model performance\n",
    "print(\"r2_score:\",r2_score(y_test, abr_pred))\n",
    "\n",
    "# Calculate and print the mean absolute error(MSE) score to evaluate model performance\n",
    "print(\"MAE:\", mean_absolute_error(y_test, abr_pred))\n",
    "\n",
    "# Calculate and print the Mean Squared Error (MSE) to evaluate prediction errors\n",
    "print(\"MSE:\", mean_squared_error(y_test, abr_pred))\n",
    "\n"
   ]
  },
  {
   "cell_type": "markdown",
   "id": "40c0f0a5-2b0a-4606-b04d-cce46bcdcaa8",
   "metadata": {},
   "source": [
    "### <B> I)  XG boost ( Without scaling test size 0.2)"
   ]
  },
  {
   "cell_type": "code",
   "execution_count": 132,
   "id": "fed9e9bc-0a9c-476f-b781-33f94d2a5380",
   "metadata": {},
   "outputs": [
    {
     "name": "stdout",
     "output_type": "stream",
     "text": [
      "r2_score: 0.6393807361034884\n",
      "MAE: 6336.216356231906\n",
      "MSE: 68606082.71260144\n"
     ]
    }
   ],
   "source": [
    "# Import XG boost from sklearn\n",
    "import xgboost as xgb\n",
    "\n",
    "# Create xg boost regression\n",
    "xgbr = xgb.XGBRegressor(learning_rate=0.3,max_depth=4)\n",
    "\n",
    "# Fit model on train data\n",
    "xgbr.fit(X_train, y_train)\n",
    "\n",
    "# Make prediction on test data\n",
    "xgbr_pred = rnd.predict(X_test)\n",
    "\n",
    "# Calculate and print the R-squared (r2) score to evaluate model performance\n",
    "print(\"r2_score:\",r2_score(y_test, xgbr_pred))\n",
    "\n",
    "# Calculate and print the mean absolute error(MSE) score to evaluate model performance\n",
    "print(\"MAE:\", mean_absolute_error(y_test, xgbr_pred))\n",
    "\n",
    "# Calculate and print the Mean Squared Error (MSE) to evaluate prediction errors\n",
    "print(\"MSE:\", mean_squared_error(y_test, xgbr_pred))\n",
    "\n"
   ]
  },
  {
   "cell_type": "markdown",
   "id": "f7be8377-030e-4b59-8d0b-aa3f457e973f",
   "metadata": {},
   "source": [
    "### Machine Learning models without Feature Scaling and test size 0.1"
   ]
  },
  {
   "cell_type": "code",
   "execution_count": 135,
   "id": "d085cc3c-9c3f-472c-b031-7c3b36c592d7",
   "metadata": {},
   "outputs": [],
   "source": [
    "# Split Data into train and test with test_size = 0.1(90% data into train and 10% to test)\n",
    "\n",
    "X_train, X_test, y_train, y_test = train_test_split(X, y, test_size = 0.1, random_state = 42)"
   ]
  },
  {
   "cell_type": "markdown",
   "id": "3586e282-15b6-4d0d-b95b-043fec9516f3",
   "metadata": {},
   "source": [
    "#### <b> A) Linear regression (without Scaling and Test size = 0.1)"
   ]
  },
  {
   "cell_type": "code",
   "execution_count": 138,
   "id": "540cc43b-cd1c-4dac-b832-7e8243b4781e",
   "metadata": {},
   "outputs": [],
   "source": [
    "#importing required libraries\n",
    "from sklearn.linear_model import LinearRegression\n",
    "from sklearn.metrics import r2_score, mean_absolute_error, mean_squared_error"
   ]
  },
  {
   "cell_type": "code",
   "execution_count": 140,
   "id": "54cb9acc-c619-4dca-9f35-d402ba5c1567",
   "metadata": {},
   "outputs": [
    {
     "name": "stdout",
     "output_type": "stream",
     "text": [
      "Coef: [4.42913287e+02 5.25781984e+02 4.08209815e-01 9.22824807e+01\n",
      " 2.31554348e+00 2.51618746e+02 1.89309661e+04]\n",
      "Intercept: 37413.163158355565\n",
      "\n",
      "\n",
      "r2_score: 0.6363230307340051\n",
      "MAE: 7264.585675989767\n",
      "MSE: 75992462.43827613\n"
     ]
    }
   ],
   "source": [
    "# Create a LinearRegression model\n",
    "linear_reg = LinearRegression()\n",
    "\n",
    "# Fit the model to the training data\n",
    "linear_reg.fit(X_train, y_train)\n",
    "\n",
    "# Make predictions on the test data\n",
    "linear_reg_pred = linear_reg.predict(X_test)\n",
    "\n",
    "# Print the coefficients of the linear regression model\n",
    "print(\"Coef:\",linear_reg.coef_)\n",
    "\n",
    "# Print the intercept of the linear regression model\n",
    "print(\"Intercept:\",linear_reg.intercept_)\n",
    "\n",
    "print()\n",
    "print()\n",
    "\n",
    "# Calculate and print the R-squared (r2) score\n",
    "print(\"r2_score:\",r2_score(y_test, linear_reg_pred))\n",
    "\n",
    "# Calculate and print the Mean Absolute Error (MAE)\n",
    "print(\"MAE:\", mean_absolute_error(y_test, linear_reg_pred))\n",
    "\n",
    "# Calculate and print the Mean Squared Error (MSE)\n",
    "print(\"MSE:\", mean_squared_error(y_test, linear_reg_pred))\n"
   ]
  },
  {
   "cell_type": "markdown",
   "id": "a081adc2-47ff-40af-aafc-c931318fca15",
   "metadata": {},
   "source": [
    "#### <b> B) Ridge regression (without Scaling and Test size = 0.1)"
   ]
  },
  {
   "cell_type": "code",
   "execution_count": 143,
   "id": "e177ee0c-2f04-43b0-8983-f9b4642a6e49",
   "metadata": {},
   "outputs": [
    {
     "name": "stdout",
     "output_type": "stream",
     "text": [
      "Coef: [4.42890012e+02 5.23247292e+02 4.08231853e-01 9.20977545e+01\n",
      " 2.33314683e+00 2.51588124e+02 1.88897863e+04]\n",
      "Intercept: 37422.2327130619\n",
      "\n",
      "\n",
      "r2_score: 0.6359668884558288\n",
      "MAE: 7269.101530396075\n",
      "MSE: 76066880.48226614\n"
     ]
    }
   ],
   "source": [
    "# Import the Ridge regression model\n",
    "from sklearn.linear_model import Ridge\n",
    "ridge = Ridge(alpha=0.5, solver='cholesky')\n",
    "\n",
    "# Fit the model to training data\n",
    "ridge.fit(X_train, y_train)\n",
    "\n",
    "# Make prediction on test data\n",
    "ridge_predict = ridge.predict(X_test)\n",
    "\n",
    "\n",
    "# Print the coefficients of the linear regression model\n",
    "print(\"Coef:\",ridge.coef_)\n",
    "\n",
    "# Print the intercept of the linear regression model\n",
    "print(\"Intercept:\",ridge.intercept_)\n",
    "\n",
    "\n",
    "print()\n",
    "\n",
    "print()\n",
    "\n",
    "\n",
    "# Calculate and print the R-squared (r2) score\n",
    "print(\"r2_score:\",r2_score(y_test, ridge_predict))\n",
    "\n",
    "# Calculate and print the Mean Absolute Error (MAE)\n",
    "print(\"MAE:\", mean_absolute_error(y_test, ridge_predict))\n",
    "\n",
    "# Calculate and print the Mean Squared Error (MSE)\n",
    "print(\"MSE:\", mean_squared_error(y_test, ridge_predict))\n"
   ]
  },
  {
   "cell_type": "markdown",
   "id": "426c0b36-c6f1-4304-94c1-b3d3ea72e3b2",
   "metadata": {},
   "source": [
    "#### <b> C) Lasso regression (without Scaling and Test size = 0.1)"
   ]
  },
  {
   "cell_type": "code",
   "execution_count": 146,
   "id": "9d6e01dc-6001-4032-9aa5-bc26ee543e81",
   "metadata": {},
   "outputs": [
    {
     "name": "stdout",
     "output_type": "stream",
     "text": [
      "Coef: [4.42514594e+02 5.24517798e+02 4.08208156e-01 9.20872339e+01\n",
      " 2.31393492e+00 2.51614466e+02 1.89290158e+04]\n",
      "Intercept: 37415.862644384775\n",
      "\n",
      "\n",
      "r2_score: 0.6363083020390154\n",
      "MAE: 7264.798325434058\n",
      "MSE: 75995540.08656114\n"
     ]
    }
   ],
   "source": [
    "# importing model \n",
    "from sklearn.linear_model import Lasso\n",
    "\n",
    "# Create Lasso regression with default parameters\n",
    "lasso = Lasso(alpha=0.3)\n",
    "\n",
    "# Fit model with train data\n",
    "lasso.fit(X_train, y_train)\n",
    "\n",
    "# Make prediction on test data\n",
    "lasso_pred = lasso.predict(X_test)\n",
    "\n",
    "# Print the coefficients of the linear regression model\n",
    "print(\"Coef:\",lasso.coef_)\n",
    "\n",
    "# Print the intercept of the linear regression model\n",
    "print(\"Intercept:\",lasso.intercept_)\n",
    "\n",
    "\n",
    "print()\n",
    "\n",
    "print()\n",
    "\n",
    "\n",
    "# Calculate and print the R-squared (r2) score to evaluate model performance\n",
    "print(\"r2_score:\",r2_score(y_test, lasso_pred))\n",
    "\n",
    "# Calculate and print the Mean Absolute Error (MAE) to measure prediction accuracy\n",
    "print(\"MAE:\", mean_absolute_error(y_test, lasso_pred))\n",
    "\n",
    "# Calculate and print the Mean Squared Error (MSE) to assess prediction accuracy\n",
    "print(\"MSE:\", mean_squared_error(y_test, lasso_pred))\n"
   ]
  },
  {
   "cell_type": "markdown",
   "id": "bae867c3-c8bf-42c3-b5a0-eddf574a3644",
   "metadata": {},
   "source": [
    "#### <b> D) Decsion tree (without Scaling and Test size = 0.1)"
   ]
  },
  {
   "cell_type": "code",
   "execution_count": 149,
   "id": "878cb43b-cee8-4276-9842-60cb32c19b90",
   "metadata": {},
   "outputs": [
    {
     "name": "stdout",
     "output_type": "stream",
     "text": [
      "r2_score: 0.6302598008039058\n",
      "MAE: 7013.488193238541\n",
      "MSE: 77259410.33890247\n"
     ]
    }
   ],
   "source": [
    "# Import DecisionTreeRegressor\n",
    "from sklearn.tree import DecisionTreeRegressor\n",
    "\n",
    "\n",
    "# Create a DecisionTreeRegressor model max depth =4\n",
    "dtr = DecisionTreeRegressor(max_depth=4)\n",
    "\n",
    "# Train the model using the training data\n",
    "dtr.fit(X_train, y_train)\n",
    "\n",
    "# Train the model using the training data\n",
    "dtr_pred = dtr.predict(X_test)\n",
    "\n",
    "\n",
    "# Calculate and print the R-squared (r2) score to evaluate model performance\n",
    "print(\"r2_score:\",r2_score(y_test, dtr_pred))\n",
    "\n",
    "# Calculate and print the mean absolute error(MSE) score to evaluate model performance\n",
    "print(\"MAE:\", mean_absolute_error(y_test, dtr_pred))\n",
    "\n",
    "# Calculate and print the Mean Squared Error (MSE) to evaluate prediction errors\n",
    "print(\"MSE:\", mean_squared_error(y_test, dtr_pred))\n",
    "\n"
   ]
  },
  {
   "cell_type": "markdown",
   "id": "30e8e8c3-bda2-43fe-863a-40afd4bf0ece",
   "metadata": {},
   "source": [
    "### <B> E) Random forest (without Scaling and Test size = 0.1)"
   ]
  },
  {
   "cell_type": "code",
   "execution_count": 152,
   "id": "8bbf46cf-f6fe-47a6-a08a-668f71828af4",
   "metadata": {},
   "outputs": [
    {
     "name": "stdout",
     "output_type": "stream",
     "text": [
      "r2_score: 0.6926755481204343\n",
      "MAE: 6333.212153538984\n",
      "MSE: 64217269.27871594\n"
     ]
    }
   ],
   "source": [
    "# Import Random Forest from sklearn\n",
    "from sklearn.ensemble import RandomForestRegressor\n",
    "\n",
    "# Create Random forest regression\n",
    "rnd = RandomForestRegressor(n_jobs=-1, max_features=5, min_samples_split=3,random_state=34)\n",
    "\n",
    "# Fit model on train data\n",
    "rnd.fit(X_train, y_train)\n",
    "\n",
    "# Make prediction on test data\n",
    "rnd_pred = rnd.predict(X_test)\n",
    "\n",
    "# Calculate and print the R-squared (r2) score to evaluate model performance\n",
    "print(\"r2_score:\",r2_score(y_test, rnd_pred))\n",
    "\n",
    "# Calculate and print the mean absolute error(MSE) score to evaluate model performance\n",
    "print(\"MAE:\", mean_absolute_error(y_test, rnd_pred))\n",
    "\n",
    "# Calculate and print the Mean Squared Error (MSE) to evaluate prediction errors\n",
    "print(\"MSE:\", mean_squared_error(y_test, rnd_pred))"
   ]
  },
  {
   "cell_type": "markdown",
   "id": "75287f76-cda3-4370-85ee-2f5ec7d96afd",
   "metadata": {},
   "source": [
    "### <B> F) Bagging ( Without scaling test size 0.1)"
   ]
  },
  {
   "cell_type": "code",
   "execution_count": 155,
   "id": "ba49efff-b33d-406c-8f2b-3a3c6b3a3122",
   "metadata": {},
   "outputs": [
    {
     "name": "stdout",
     "output_type": "stream",
     "text": [
      "r2_score: 0.6926755481204343\n",
      "MAE: 6333.212153538984\n",
      "MSE: 64217269.27871594\n"
     ]
    }
   ],
   "source": [
    "# Import DecisionTreeRegressor\n",
    "from sklearn.tree import DecisionTreeRegressor\n",
    "\n",
    "\n",
    "# Create a DecisionTreeRegressor model max depth =4\n",
    "dtr = DecisionTreeRegressor(max_depth=4)\n",
    "\n",
    "\n",
    "# Import Bagging from sklearn\n",
    "from sklearn.ensemble import BaggingRegressor\n",
    "\n",
    "# Create bagging regression\n",
    "bgg = BaggingRegressor(estimator= dtr,bootstrap= True , n_jobs=-1,random_state=42)\n",
    "\n",
    "# Fit model on train data\n",
    "bgg.fit(X_train, y_train)\n",
    "\n",
    "# Make prediction on test data\n",
    "bgg_pred = rnd.predict(X_test)\n",
    "\n",
    "# Calculate and print the R-squared (r2) score to evaluate model performance\n",
    "print(\"r2_score:\",r2_score(y_test, bgg_pred))\n",
    "\n",
    "# Calculate and print the mean absolute error(MSE) score to evaluate model performance\n",
    "print(\"MAE:\", mean_absolute_error(y_test, bgg_pred))\n",
    "\n",
    "# Calculate and print the Mean Squared Error (MSE) to evaluate prediction errors\n",
    "print(\"MSE:\", mean_squared_error(y_test, bgg_pred))"
   ]
  },
  {
   "cell_type": "markdown",
   "id": "c801c611-d417-4f64-8878-614770d27348",
   "metadata": {},
   "source": [
    "### <B> G) Gradient boost ( Without scaling test size 0.1)"
   ]
  },
  {
   "cell_type": "code",
   "execution_count": 158,
   "id": "745fb8da-4cb8-482c-b5e3-41d825855ea8",
   "metadata": {},
   "outputs": [
    {
     "name": "stdout",
     "output_type": "stream",
     "text": [
      "r2_score: 0.6926755481204343\n",
      "MAE: 6333.212153538984\n",
      "MSE: 64217269.27871594\n"
     ]
    }
   ],
   "source": [
    "# Import gradient boost from sklearn\n",
    "from sklearn.ensemble import GradientBoostingRegressor\n",
    "\n",
    "# Create gradient boost regression\n",
    "gbr = GradientBoostingRegressor(learning_rate=0.2,random_state=42)\n",
    "\n",
    "# Fit model on train data\n",
    "gbr.fit(X_train, y_train)\n",
    "\n",
    "# Make prediction on test data\n",
    "gbr_pred = rnd.predict(X_test)\n",
    "\n",
    "# Calculate and print the R-squared (r2) score to evaluate model performance\n",
    "print(\"r2_score:\",r2_score(y_test, gbr_pred))\n",
    "\n",
    "# Calculate and print the mean absolute error(MSE) score to evaluate model performance\n",
    "print(\"MAE:\", mean_absolute_error(y_test, gbr_pred))\n",
    "\n",
    "# Calculate and print the Mean Squared Error (MSE) to evaluate prediction errors\n",
    "print(\"MSE:\", mean_squared_error(y_test, gbr_pred))\n",
    "\n"
   ]
  },
  {
   "cell_type": "markdown",
   "id": "9a046f4d-fec3-4730-9b8a-d21c9640cdbe",
   "metadata": {},
   "source": [
    "### <B> H) Adaboost ( Without scaling test size 0.1)"
   ]
  },
  {
   "cell_type": "code",
   "execution_count": 161,
   "id": "d41d9cb6-356e-4de6-9ce8-3ade3a6939f0",
   "metadata": {},
   "outputs": [
    {
     "name": "stdout",
     "output_type": "stream",
     "text": [
      "r2_score: 0.6926755481204343\n",
      "MAE: 6333.212153538984\n",
      "MSE: 64217269.27871592\n"
     ]
    }
   ],
   "source": [
    "# Import Ada boost from sklearn\n",
    "from sklearn.ensemble import AdaBoostRegressor\n",
    "\n",
    "# Create Ada boost regression\n",
    "abr = AdaBoostRegressor(learning_rate=0.2)\n",
    "\n",
    "# Fit model on train data\n",
    "abr.fit(X_train, y_train)\n",
    "\n",
    "# Make prediction on test data\n",
    "abr_pred = rnd.predict(X_test)\n",
    "\n",
    "# Calculate and print the R-squared (r2) score to evaluate model performance\n",
    "print(\"r2_score:\",r2_score(y_test, abr_pred))\n",
    "\n",
    "# Calculate and print the mean absolute error(MSE) score to evaluate model performance\n",
    "print(\"MAE:\", mean_absolute_error(y_test, abr_pred))\n",
    "\n",
    "# Calculate and print the Mean Squared Error (MSE) to evaluate prediction errors\n",
    "print(\"MSE:\", mean_squared_error(y_test, abr_pred))\n",
    "\n"
   ]
  },
  {
   "cell_type": "markdown",
   "id": "07d5b642-dd81-41dd-8c2c-cda1933d3b63",
   "metadata": {},
   "source": [
    "### <B> I)  XG boost ( Without scaling test size 0.1)"
   ]
  },
  {
   "cell_type": "code",
   "execution_count": 164,
   "id": "50e724e4-729c-425c-973e-4b6295dc5244",
   "metadata": {},
   "outputs": [
    {
     "name": "stdout",
     "output_type": "stream",
     "text": [
      "r2_score: 0.6926755481204343\n",
      "MAE: 6333.212153538984\n",
      "MSE: 64217269.27871594\n"
     ]
    }
   ],
   "source": [
    "# Import XG boost from sklearn\n",
    "import xgboost as xgb\n",
    "\n",
    "# Create xg boost regression\n",
    "xgbr = xgb.XGBRegressor(learning_rate=0.3,max_depth=4)\n",
    "\n",
    "# Fit model on train data\n",
    "xgbr.fit(X_train, y_train)\n",
    "\n",
    "# Make prediction on test data\n",
    "xgbr_pred = rnd.predict(X_test)\n",
    "\n",
    "# Calculate and print the R-squared (r2) score to evaluate model performance\n",
    "print(\"r2_score:\",r2_score(y_test, xgbr_pred))\n",
    "\n",
    "# Calculate and print the mean absolute error(MSE) score to evaluate model performance\n",
    "print(\"MAE:\", mean_absolute_error(y_test, xgbr_pred))\n",
    "\n",
    "# Calculate and print the Mean Squared Error (MSE) to evaluate prediction errors\n",
    "print(\"MSE:\", mean_squared_error(y_test, xgbr_pred))\n",
    "\n"
   ]
  },
  {
   "cell_type": "markdown",
   "id": "6ea35d3f-65d2-41b7-a5ee-d1b3020427c8",
   "metadata": {},
   "source": [
    "### scaling the data "
   ]
  },
  {
   "cell_type": "code",
   "execution_count": 167,
   "id": "82460484-3900-4b71-9b29-3de793cbcf5f",
   "metadata": {},
   "outputs": [],
   "source": [
    "# Split data into independent and target variable\n",
    "X = df.loc[:, df.columns != 'CTC']\n",
    "y = df['CTC']"
   ]
  },
  {
   "cell_type": "code",
   "execution_count": 169,
   "id": "d6b47cf2-76c1-410b-8079-66fc42d2f96e",
   "metadata": {},
   "outputs": [],
   "source": [
    "# Split Data into train and test with test_size = 0.1(90% data into train and 10% to test)\n",
    "\n",
    "X_train, X_test, y_train, y_test = train_test_split(X, y, test_size = 0.1, random_state = 42)"
   ]
  },
  {
   "cell_type": "code",
   "execution_count": 171,
   "id": "947b2989-30c0-4b88-b185-6f424f14d4c4",
   "metadata": {},
   "outputs": [],
   "source": [
    "# Import Standard scaler from sklearn for feature scaling(mean=0, std dev=1)\n",
    "from sklearn.preprocessing import StandardScaler\n",
    "\n",
    "# Create standard scaler object\n",
    "scaler = StandardScaler()\n",
    "\n",
    "# Scale the features in the training data using a previously fitted scaler\n",
    "X_train_scaled = scaler.fit_transform(X_train)\n",
    "\n",
    "# Scale the features in the test data using the same scaler to ensure consistency\n",
    "X_test_scaled = scaler.transform(X_test)"
   ]
  },
  {
   "cell_type": "markdown",
   "id": "5421d04d-80cc-46ba-8f78-1fe38e79a1ef",
   "metadata": {},
   "source": [
    "### Machine Learning models without Feature Scaling and test size 0.1"
   ]
  },
  {
   "cell_type": "markdown",
   "id": "b702e8ae-76d9-44c4-8408-326c66ed4d7f",
   "metadata": {},
   "source": [
    "#### <b> A) Linear regression (with Scaling and Test size = 0.1)"
   ]
  },
  {
   "cell_type": "code",
   "execution_count": 175,
   "id": "27ce345c-4455-4a54-a773-843b7b5fc8a9",
   "metadata": {},
   "outputs": [
    {
     "name": "stdout",
     "output_type": "stream",
     "text": [
      "Coef: [ 370.67836782  262.77757829 2712.43254456  103.76361161   34.54979686\n",
      " 3569.08782057 7602.01084896]\n",
      "Intercept: 75275.75664335664\n",
      "\n",
      "\n",
      "r2_score: 0.6363230307340061\n",
      "MAE: 7264.585675989758\n",
      "MSE: 75992462.43827592\n"
     ]
    }
   ],
   "source": [
    "from sklearn.linear_model import LinearRegression\n",
    "\n",
    "# Create a LinearRegression model\n",
    "linear_reg = LinearRegression()\n",
    "\n",
    "# Fit the model to the training data\n",
    "linear_reg.fit(X_train_scaled, y_train)\n",
    "\n",
    "# Make predictions on the test data\n",
    "linear_reg_pred = linear_reg.predict(X_test_scaled)\n",
    "\n",
    "# Print the coefficients of the linear regression model\n",
    "print(\"Coef:\",linear_reg.coef_)\n",
    "\n",
    "# Print the intercept of the linear regression model\n",
    "print(\"Intercept:\",linear_reg.intercept_)\n",
    "\n",
    "print()\n",
    "print()\n",
    "\n",
    "# Calculate and print the R-squared (r2) score\n",
    "print(\"r2_score:\",r2_score(y_test, linear_reg_pred))\n",
    "\n",
    "# Calculate and print the Mean Absolute Error (MAE)\n",
    "print(\"MAE:\", mean_absolute_error(y_test, linear_reg_pred))\n",
    "\n",
    "# Calculate and print the Mean Squared Error (MSE)\n",
    "print(\"MSE:\", mean_squared_error(y_test, linear_reg_pred))\n"
   ]
  },
  {
   "cell_type": "markdown",
   "id": "df2dfede-f7cc-4a8f-afe6-07d163f29add",
   "metadata": {},
   "source": [
    "#### <b> B) Ridge regression (with Scaling and Test size = 0.1)"
   ]
  },
  {
   "cell_type": "code",
   "execution_count": 178,
   "id": "012bc032-f510-4cd7-a2a8-efd82e6ed2bd",
   "metadata": {},
   "outputs": [
    {
     "name": "stdout",
     "output_type": "stream",
     "text": [
      "Coef: [ 370.50683175  262.49479816 2711.64126055  103.74538206   34.48850335\n",
      " 3567.85971617 7599.31614652]\n",
      "Intercept: 75275.75664335664\n",
      "\n",
      "\n",
      "r2_score: 0.6362480719447947\n",
      "MAE: 7265.500068274926\n",
      "MSE: 76008125.5224274\n"
     ]
    }
   ],
   "source": [
    "# Import the Ridge regression model\n",
    "from sklearn.linear_model import Ridge\n",
    "ridge = Ridge(alpha=0.5, solver='cholesky')\n",
    "\n",
    "# Fit the model to training data\n",
    "ridge.fit(X_train_scaled, y_train)\n",
    "\n",
    "# Make prediction on test data\n",
    "ridge_predict = ridge.predict(X_test_scaled)\n",
    "\n",
    "\n",
    "# Print the coefficients of the linear regression model\n",
    "print(\"Coef:\",ridge.coef_)\n",
    "\n",
    "# Print the intercept of the linear regression model\n",
    "print(\"Intercept:\",ridge.intercept_)\n",
    "\n",
    "\n",
    "print()\n",
    "\n",
    "print()\n",
    "\n",
    "\n",
    "# Calculate and print the R-squared (r2) score\n",
    "print(\"r2_score:\",r2_score(y_test, ridge_predict))\n",
    "\n",
    "# Calculate and print the Mean Absolute Error (MAE)\n",
    "print(\"MAE:\", mean_absolute_error(y_test, ridge_predict))\n",
    "\n",
    "# Calculate and print the Mean Squared Error (MSE)\n",
    "print(\"MSE:\", mean_squared_error(y_test, ridge_predict))\n"
   ]
  },
  {
   "cell_type": "markdown",
   "id": "7ce09597-b1df-4c86-9607-0395c14ea4c1",
   "metadata": {},
   "source": [
    "#### <b> C) Lasso regression (with Scaling and Test size = 0.1)"
   ]
  },
  {
   "cell_type": "code",
   "execution_count": 181,
   "id": "3fa2028c-8b9c-4a13-83db-521476d1a4cc",
   "metadata": {},
   "outputs": [
    {
     "name": "stdout",
     "output_type": "stream",
     "text": [
      "Coef: [ 370.37771845  262.45627658 2712.14530327  103.50874793   34.2235039\n",
      " 3568.78730724 7601.69257588]\n",
      "Intercept: 75275.75664335664\n",
      "\n",
      "\n",
      "r2_score: 0.6363105168145384\n",
      "MAE: 7264.762446482099\n",
      "MSE: 75995077.2960631\n"
     ]
    }
   ],
   "source": [
    "# importing model \n",
    "from sklearn.linear_model import Lasso\n",
    "\n",
    "# Create Lasso regression with default parameters\n",
    "lasso = Lasso(alpha=0.3)\n",
    "\n",
    "# Fit model with train data\n",
    "lasso.fit(X_train_scaled, y_train)\n",
    "\n",
    "# Make prediction on test data\n",
    "lasso_pred = lasso.predict(X_test_scaled)\n",
    "\n",
    "# Print the coefficients of the linear regression model\n",
    "print(\"Coef:\",lasso.coef_)\n",
    "\n",
    "# Print the intercept of the linear regression model\n",
    "print(\"Intercept:\",lasso.intercept_)\n",
    "\n",
    "\n",
    "print()\n",
    "\n",
    "print()\n",
    "\n",
    "\n",
    "# Calculate and print the R-squared (r2) score to evaluate model performance\n",
    "print(\"r2_score:\",r2_score(y_test, lasso_pred))\n",
    "\n",
    "# Calculate and print the Mean Absolute Error (MAE) to measure prediction accuracy\n",
    "print(\"MAE:\", mean_absolute_error(y_test, lasso_pred))\n",
    "\n",
    "# Calculate and print the Mean Squared Error (MSE) to assess prediction accuracy\n",
    "print(\"MSE:\", mean_squared_error(y_test, lasso_pred))\n"
   ]
  },
  {
   "cell_type": "markdown",
   "id": "4c9141ba-7abf-4073-964f-3de9be9f7d31",
   "metadata": {},
   "source": [
    "#### <b> D) Decsion tree (with Scaling and Test size = 0.1)"
   ]
  },
  {
   "cell_type": "code",
   "execution_count": 184,
   "id": "d682449b-962e-43e7-82db-d62b63bd4aaf",
   "metadata": {},
   "outputs": [
    {
     "name": "stdout",
     "output_type": "stream",
     "text": [
      "r2_score: 0.6302598008039058\n",
      "MAE: 7013.488193238541\n",
      "MSE: 77259410.33890247\n"
     ]
    }
   ],
   "source": [
    "# Import DecisionTreeRegressor\n",
    "from sklearn.tree import DecisionTreeRegressor\n",
    "\n",
    "\n",
    "# Create a DecisionTreeRegressor model max depth =4\n",
    "dtr = DecisionTreeRegressor(max_depth=4)\n",
    "\n",
    "# Train the model using the training data\n",
    "dtr.fit(X_train_scaled, y_train)\n",
    "\n",
    "# Train the model using the training data\n",
    "dtr_pred = dtr.predict(X_test_scaled)\n",
    "\n",
    "\n",
    "# Calculate and print the R-squared (r2) score to evaluate model performance\n",
    "print(\"r2_score:\",r2_score(y_test, dtr_pred))\n",
    "\n",
    "# Calculate and print the mean absolute error(MSE) score to evaluate model performance\n",
    "print(\"MAE:\", mean_absolute_error(y_test, dtr_pred))\n",
    "\n",
    "# Calculate and print the Mean Squared Error (MSE) to evaluate prediction errors\n",
    "print(\"MSE:\", mean_squared_error(y_test, dtr_pred))\n",
    "\n"
   ]
  },
  {
   "cell_type": "markdown",
   "id": "ef2e2ead-eeff-4ad8-94ce-5b1a23a5bf8d",
   "metadata": {},
   "source": [
    "### <B> E) Random forest (without Scaling and Test size = 0.1)"
   ]
  },
  {
   "cell_type": "code",
   "execution_count": 187,
   "id": "003ac422-5897-4b5d-ae9d-96ab6f8d4a3c",
   "metadata": {},
   "outputs": [
    {
     "name": "stdout",
     "output_type": "stream",
     "text": [
      "r2_score: 0.6926755481204343\n",
      "MAE: 6333.212153538984\n",
      "MSE: 64217269.27871594\n"
     ]
    }
   ],
   "source": [
    "# Import Random Forest from sklearn\n",
    "from sklearn.ensemble import RandomForestRegressor\n",
    "\n",
    "# Create Random forest regression\n",
    "rnd = RandomForestRegressor(n_jobs=-1, max_features=5, min_samples_split=3,random_state=34)\n",
    "\n",
    "# Fit model on train data\n",
    "rnd.fit(X_train, y_train)\n",
    "\n",
    "# Make prediction on test data\n",
    "rnd_pred = rnd.predict(X_test)\n",
    "\n",
    "# Calculate and print the R-squared (r2) score to evaluate model performance\n",
    "print(\"r2_score:\",r2_score(y_test, rnd_pred))\n",
    "\n",
    "# Calculate and print the mean absolute error(MSE) score to evaluate model performance\n",
    "print(\"MAE:\", mean_absolute_error(y_test, rnd_pred))\n",
    "\n",
    "# Calculate and print the Mean Squared Error (MSE) to evaluate prediction errors\n",
    "print(\"MSE:\", mean_squared_error(y_test, rnd_pred))"
   ]
  },
  {
   "cell_type": "markdown",
   "id": "b338bce7-6ee0-4c04-949a-3a616f081be6",
   "metadata": {},
   "source": [
    "### <B> F) Bagging ( Without scaling test size 0.1)"
   ]
  },
  {
   "cell_type": "code",
   "execution_count": 190,
   "id": "a8ffe431-5fb5-4a0b-8ece-375087fdfbb0",
   "metadata": {},
   "outputs": [
    {
     "name": "stdout",
     "output_type": "stream",
     "text": [
      "r2_score: 0.07633382384535359\n",
      "MAE: 10251.814823300387\n",
      "MSE: 193005532.7358374\n"
     ]
    },
    {
     "name": "stderr",
     "output_type": "stream",
     "text": [
      "C:\\ProgramData\\anaconda3\\Lib\\site-packages\\sklearn\\base.py:493: UserWarning: X does not have valid feature names, but RandomForestRegressor was fitted with feature names\n",
      "  warnings.warn(\n"
     ]
    }
   ],
   "source": [
    "# Import DecisionTreeRegressor\n",
    "from sklearn.tree import DecisionTreeRegressor\n",
    "\n",
    "\n",
    "# Create a DecisionTreeRegressor model max depth =4\n",
    "dtr = DecisionTreeRegressor(max_depth=4)\n",
    "\n",
    "\n",
    "# Import Bagging from sklearn\n",
    "from sklearn.ensemble import BaggingRegressor\n",
    "\n",
    "# Create bagging regression\n",
    "bgg = BaggingRegressor(estimator= dtr,bootstrap= True , n_jobs=-1,random_state=42)\n",
    "\n",
    "# Fit model on train data\n",
    "bgg.fit(X_train_scaled, y_train)\n",
    "\n",
    "# Make prediction on test data\n",
    "bgg_pred = rnd.predict(X_test_scaled)\n",
    "\n",
    "# Calculate and print the R-squared (r2) score to evaluate model performance\n",
    "print(\"r2_score:\",r2_score(y_test, bgg_pred))\n",
    "\n",
    "# Calculate and print the mean absolute error(MSE) score to evaluate model performance\n",
    "print(\"MAE:\", mean_absolute_error(y_test, bgg_pred))\n",
    "\n",
    "# Calculate and print the Mean Squared Error (MSE) to evaluate prediction errors\n",
    "print(\"MSE:\", mean_squared_error(y_test, bgg_pred))"
   ]
  },
  {
   "cell_type": "markdown",
   "id": "bc6419ee-0a2f-4f21-a54d-86735f5590cf",
   "metadata": {},
   "source": [
    "### <B> G) Gradient boost ( With scaling test size 0.1)"
   ]
  },
  {
   "cell_type": "code",
   "execution_count": 193,
   "id": "49919d8a-e699-425e-9729-ac4baac8a762",
   "metadata": {},
   "outputs": [
    {
     "name": "stdout",
     "output_type": "stream",
     "text": [
      "r2_score: 0.07633382384535392\n",
      "MAE: 10251.814823300387\n",
      "MSE: 193005532.7358373\n"
     ]
    },
    {
     "name": "stderr",
     "output_type": "stream",
     "text": [
      "C:\\ProgramData\\anaconda3\\Lib\\site-packages\\sklearn\\base.py:493: UserWarning: X does not have valid feature names, but RandomForestRegressor was fitted with feature names\n",
      "  warnings.warn(\n"
     ]
    }
   ],
   "source": [
    "# Import gradient boost from sklearn\n",
    "from sklearn.ensemble import GradientBoostingRegressor\n",
    "\n",
    "# Create gradient boost regression\n",
    "gbr = GradientBoostingRegressor(learning_rate=0.2,random_state=42)\n",
    "\n",
    "# Fit model on train data\n",
    "gbr.fit(X_train_scaled, y_train)\n",
    "\n",
    "# Make prediction on test data\n",
    "gbr_pred = rnd.predict(X_test_scaled)\n",
    "\n",
    "# Calculate and print the R-squared (r2) score to evaluate model performance\n",
    "print(\"r2_score:\",r2_score(y_test, gbr_pred))\n",
    "\n",
    "# Calculate and print the mean absolute error(MSE) score to evaluate model performance\n",
    "print(\"MAE:\", mean_absolute_error(y_test, gbr_pred))\n",
    "\n",
    "# Calculate and print the Mean Squared Error (MSE) to evaluate prediction errors\n",
    "print(\"MSE:\", mean_squared_error(y_test, gbr_pred))\n",
    "\n"
   ]
  },
  {
   "cell_type": "markdown",
   "id": "822b44bc-afcb-4848-9f38-3c75eb2699f1",
   "metadata": {},
   "source": [
    "### <B> H) Adaboost ( With scaling test size 0.1)"
   ]
  },
  {
   "cell_type": "code",
   "execution_count": 196,
   "id": "cf5fd004-9f90-4e9e-b04b-360e64f02f10",
   "metadata": {},
   "outputs": [
    {
     "name": "stdout",
     "output_type": "stream",
     "text": [
      "r2_score: 0.07633382384535359\n",
      "MAE: 10251.814823300387\n",
      "MSE: 193005532.7358374\n"
     ]
    },
    {
     "name": "stderr",
     "output_type": "stream",
     "text": [
      "C:\\ProgramData\\anaconda3\\Lib\\site-packages\\sklearn\\base.py:493: UserWarning: X does not have valid feature names, but RandomForestRegressor was fitted with feature names\n",
      "  warnings.warn(\n"
     ]
    }
   ],
   "source": [
    "# Import Ada boost from sklearn\n",
    "from sklearn.ensemble import AdaBoostRegressor\n",
    "\n",
    "# Create Ada boost regression\n",
    "abr = AdaBoostRegressor(learning_rate=0.2)\n",
    "\n",
    "# Fit model on train data\n",
    "abr.fit(X_train_scaled, y_train)\n",
    "\n",
    "# Make prediction on test data\n",
    "abr_pred = rnd.predict(X_test_scaled)\n",
    "\n",
    "# Calculate and print the R-squared (r2) score to evaluate model performance\n",
    "print(\"r2_score:\",r2_score(y_test, abr_pred))\n",
    "\n",
    "# Calculate and print the mean absolute error(MSE) score to evaluate model performance\n",
    "print(\"MAE:\", mean_absolute_error(y_test, abr_pred))\n",
    "\n",
    "# Calculate and print the Mean Squared Error (MSE) to evaluate prediction errors\n",
    "print(\"MSE:\", mean_squared_error(y_test, abr_pred))\n",
    "\n"
   ]
  },
  {
   "cell_type": "markdown",
   "id": "9a87454e-b6d2-4396-b1fd-fa25752fc2fe",
   "metadata": {},
   "source": [
    "### <B> I)  XG boost ( With scaling test size 0.1)"
   ]
  },
  {
   "cell_type": "code",
   "execution_count": 199,
   "id": "52be8c95-318f-4319-a2cd-353da7b94787",
   "metadata": {},
   "outputs": [
    {
     "name": "stdout",
     "output_type": "stream",
     "text": [
      "r2_score: 0.07633382384535392\n",
      "MAE: 10251.814823300387\n",
      "MSE: 193005532.7358373\n"
     ]
    },
    {
     "name": "stderr",
     "output_type": "stream",
     "text": [
      "C:\\ProgramData\\anaconda3\\Lib\\site-packages\\sklearn\\base.py:493: UserWarning: X does not have valid feature names, but RandomForestRegressor was fitted with feature names\n",
      "  warnings.warn(\n"
     ]
    }
   ],
   "source": [
    "# Import XG boost from sklearn\n",
    "import xgboost as xgb\n",
    "\n",
    "# Create xg boost regression\n",
    "xgbr = xgb.XGBRegressor(learning_rate=0.3,max_depth=4)\n",
    "\n",
    "# Fit model on train data\n",
    "xgbr.fit(X_train_scaled, y_train)\n",
    "\n",
    "# Make prediction on test data\n",
    "xgbr_pred = rnd.predict(X_test_scaled)\n",
    "\n",
    "# Calculate and print the R-squared (r2) score to evaluate model performance\n",
    "print(\"r2_score:\",r2_score(y_test, xgbr_pred))\n",
    "\n",
    "# Calculate and print the mean absolute error(MSE) score to evaluate model performance\n",
    "print(\"MAE:\", mean_absolute_error(y_test, xgbr_pred))\n",
    "\n",
    "# Calculate and print the Mean Squared Error (MSE) to evaluate prediction errors\n",
    "print(\"MSE:\", mean_squared_error(y_test, xgbr_pred))\n",
    "\n"
   ]
  },
  {
   "cell_type": "markdown",
   "id": "98e0790e-ff8e-4f83-b0b7-b135fe164137",
   "metadata": {},
   "source": [
    "### <B> 4. Model comparison"
   ]
  },
  {
   "cell_type": "markdown",
   "id": "dd6564dc-d333-4906-b115-3ed27d321f70",
   "metadata": {},
   "source": [
    "To compare the performance of different machine learning models, we will focus on the R-squared (r2_score) metric, which measures the goodness of fit of the models. A higher R-squared indicates a better fit to the data. \n",
    "\n",
    "<B> Summary in three cases </B>\n",
    "\n",
    "**Case 1 (Test size = 0.2):**\n",
    "- Linear Regression: r2_score = 0.5933515097281492\n",
    "- Ridge: r2_score = 0.5930057182880146\n",
    "- Lasso: r2_score = 0.5933369144690608\n",
    "- Decision Tree: r2_score = 0.5974116918866258\n",
    "- Random Forest: r2_score = 0.6321811755180589\n",
    "- Bagging : r2_score = 0.6321811755180589\n",
    "- Gradient boost : r2_score = 0.6321811755180589\n",
    "- Adaboost : r2_score = 0.6321811755180587\n",
    "- XG Boost : r2_score = 0.6321811755180589\n",
    "\n",
    "**Case 2 (Test size = 0.1):**\n",
    "- Linear Regression: r2_score = 0.6363230307340051\n",
    "- Ridge: r2_score = 0.6359668884558288\n",
    "- Lasso: r2_score = 0.6363083020390154\n",
    "- Decision Tree: r2_score = 0.6302598008039058\n",
    "- Random Forest: r2_score = 0.6926755481204343\n",
    "- Bagging : r2_score = 0.6926755481204343\n",
    "- Gradient boost : r2_score = 0.6926755481204343\n",
    "- Adaboost : r2_score = 0.6926755481204343\n",
    "- XG Boost : r2_score = 0.6926755481204343\n",
    "\n",
    "**Case 3 (Test size = 0.1 with feature scaling):**\n",
    "- Linear Regression: r2_score = 0.6363230307340061\n",
    "- Ridge: r2_score = 0.6362480719447947\n",
    "- Lasso: r2_score = 0.6363105168145384\n",
    "- Decision Tree: r2_score = 0.6302598008039058\n",
    "- Random Forest: r2_score = 0.6926755481204343\n",
    "- Bagging : r2_score = 0.07633382384535392\n",
    "- Gradient boost : r2_score = 0.07633382384535425\n",
    "- Adaboost : r2_score = 0.07633382384535359\n",
    "- XG Boost : r2_score = 0.07633382384535359\n",
    "\n",
    "  \n",
    "**Summary:**\n",
    "- Among the different models, Random Forest consistently performs well in all Cases with or without feature scaling, and with varying test sizes. It achieves the highest R-squared scores, indicating a good fit to the data.\n",
    "- Decision Tree gives lowest R-square scores in without scaling and test sizes 0.1 and 0.2.\n",
    "- Feature scaling increase the R-square scores of many models , but in case of bagging and boosting models scaling does not work properly they achive the lowest accuracy in featre scaling.\n",
    "\n",
    "Overall, if we consider R-squared as the primary metric for model performance, Random Forest is the top performer, followed by Linear Regression and Lasso. It's essential to consider other factors like computational efficiency, model interpretability, and the specific goals of your application when choosing the best model."
   ]
  },
  {
   "cell_type": "markdown",
   "id": "abfa1a64-b9cb-40c4-8766-2160fa687fe9",
   "metadata": {},
   "source": [
    "### <B> 5. Future improvement"
   ]
  },
  {
   "cell_type": "markdown",
   "id": "db7734d9-56e3-48a4-a032-21b28ac6044c",
   "metadata": {},
   "source": [
    "#### Steps to increase model performance\n",
    "- **Increase the Number of Trees (Estimators):**\n",
    "    Random Forest's performance often benefits from increasing the number of decision trees (estimators) in the ensemble.\n",
    "- **Tune Hyperparameters:** Perform a more thorough hyperparameter tuning by experimenting with different values for parameters like max_depth, min_samples_split, min_samples_leaf, and max_features. Grid Search or Randomized Search can help find the optimal combination of hyperparameters.\n",
    "- **Feature Selection:** Consider removing or reducing the importance of less informative features to improve the model's efficiency and potentially its performance."
   ]
  },
  {
   "cell_type": "code",
   "execution_count": null,
   "id": "a59d88c2-9a82-439b-a2e7-638e586838e2",
   "metadata": {},
   "outputs": [],
   "source": []
  },
  {
   "cell_type": "code",
   "execution_count": null,
   "id": "846fe41e-7c67-4b28-bc91-993e907eebd1",
   "metadata": {},
   "outputs": [],
   "source": []
  }
 ],
 "metadata": {
  "kernelspec": {
   "display_name": "Python 3 (ipykernel)",
   "language": "python",
   "name": "python3"
  },
  "language_info": {
   "codemirror_mode": {
    "name": "ipython",
    "version": 3
   },
   "file_extension": ".py",
   "mimetype": "text/x-python",
   "name": "python",
   "nbconvert_exporter": "python",
   "pygments_lexer": "ipython3",
   "version": "3.12.4"
  }
 },
 "nbformat": 4,
 "nbformat_minor": 5
}
